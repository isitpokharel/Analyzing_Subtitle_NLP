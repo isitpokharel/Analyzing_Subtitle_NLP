{
 "cells":[
  {
   "cell_type":"markdown",
   "source":[
    "### Isit Pokharel \n",
    "#### NLP Project to analyze subtitle of movie \"Ides of March\"\n",
    "##### Concepts covered: Text cleaning & Processing, Part of Speech Tagging, KPE (Key Phrase Extraction), NER (Named Entity Recognition), Knowledge Graphs"
   ],
   "attachments":{
    
   },
   "metadata":{
    "datalore":{
     "node_id":"HeBE82Jis6MZvmcOvfigIt",
     "type":"MD",
     "hide_input_from_viewers":true,
     "hide_output_from_viewers":true
    }
   }
  },
  {
   "cell_type":"markdown",
   "source":[
    "## Proposed Text\n",
    "\n",
    "\n",
    "The objective of this project is to leverage Natural Language Processing (NLP) techniques to conduct an analysis of the movie's subtitles. \"Ides of March\" is a political drama featuring George Clooney and Ryan Gosling, with a central focus on a political campaign. In the storyline, George Clooney's character runs for the presidency of the United States, while Ryan Gosling's character plays a crucial role as a campaign worker. The analysis will aim to extract meaningful insights from the text data.\n",
    "\n",
    "\n",
    "\n",
    "\n",
    "\n",
    "\n"
   ],
   "attachments":{
    
   },
   "metadata":{
    "datalore":{
     "node_id":"CE6mfeXQFyxqPIZtOohi9K",
     "type":"MD",
     "hide_input_from_viewers":false,
     "hide_output_from_viewers":false,
     "report_properties":{
      "rowId":"2gQble3kDiltF4JpjHTiT5",
      "relativeY":0
     }
    }
   }
  },
  {
   "cell_type":"code",
   "source":[
    "import pysrt\n",
    "import pandas as pd\n",
    "import re\n",
    "import spacy\n",
    "\n",
    "#%%\n",
    "import subprocess\n",
    "#%%\n",
    "print(subprocess.getoutput(\"python -m spacy download en_core_web_sm\"))\n",
    "nlp = spacy.load('en_core_web_sm')"
   ],
   "execution_count":42,
   "outputs":[
    {
     "name":"stdout",
     "text":[
      "Collecting en-core-web-sm==3.7.1\n",
      "  Downloading https:\/\/github.com\/explosion\/spacy-models\/releases\/download\/en_core_web_sm-3.7.1\/en_core_web_sm-3.7.1-py3-none-any.whl (12.8 MB)\n",
      "     ━━━━━━━━━━━━━━━━━━━━━━━━━━━━━━━━━━━━━━━━ 12.8\/12.8 MB 35.2 MB\/s eta 0:00:00\n",
      "Requirement already satisfied: spacy<3.8.0,>=3.7.2 in \/opt\/python\/envs\/minimal\/lib\/python3.8\/site-packages (from en-core-web-sm==3.7.1) (3.7.2)\n",
      "Requirement already satisfied: spacy-legacy<3.1.0,>=3.0.11 in \/opt\/python\/envs\/minimal\/lib\/python3.8\/site-packages (from spacy<3.8.0,>=3.7.2->en-core-web-sm==3.7.1) (3.0.12)\n",
      "Requirement already satisfied: spacy-loggers<2.0.0,>=1.0.0 in \/opt\/python\/envs\/minimal\/lib\/python3.8\/site-packages (from spacy<3.8.0,>=3.7.2->en-core-web-sm==3.7.1) (1.0.5)\n",
      "Requirement already satisfied: murmurhash<1.1.0,>=0.28.0 in \/opt\/python\/envs\/minimal\/lib\/python3.8\/site-packages (from spacy<3.8.0,>=3.7.2->en-core-web-sm==3.7.1) (1.0.10)\n",
      "Requirement already satisfied: cymem<2.1.0,>=2.0.2 in \/opt\/python\/envs\/minimal\/lib\/python3.8\/site-packages (from spacy<3.8.0,>=3.7.2->en-core-web-sm==3.7.1) (2.0.8)\n",
      "Requirement already satisfied: preshed<3.1.0,>=3.0.2 in \/opt\/python\/envs\/minimal\/lib\/python3.8\/site-packages (from spacy<3.8.0,>=3.7.2->en-core-web-sm==3.7.1) (3.0.9)\n",
      "Requirement already satisfied: thinc<8.3.0,>=8.1.8 in \/opt\/python\/envs\/minimal\/lib\/python3.8\/site-packages (from spacy<3.8.0,>=3.7.2->en-core-web-sm==3.7.1) (8.2.2)\n",
      "Requirement already satisfied: wasabi<1.2.0,>=0.9.1 in \/opt\/python\/envs\/minimal\/lib\/python3.8\/site-packages (from spacy<3.8.0,>=3.7.2->en-core-web-sm==3.7.1) (1.1.2)\n",
      "Requirement already satisfied: srsly<3.0.0,>=2.4.3 in \/opt\/python\/envs\/minimal\/lib\/python3.8\/site-packages (from spacy<3.8.0,>=3.7.2->en-core-web-sm==3.7.1) (2.4.8)\n",
      "Requirement already satisfied: catalogue<2.1.0,>=2.0.6 in \/opt\/python\/envs\/minimal\/lib\/python3.8\/site-packages (from spacy<3.8.0,>=3.7.2->en-core-web-sm==3.7.1) (2.0.10)\n",
      "Requirement already satisfied: weasel<0.4.0,>=0.1.0 in \/opt\/python\/envs\/minimal\/lib\/python3.8\/site-packages (from spacy<3.8.0,>=3.7.2->en-core-web-sm==3.7.1) (0.3.4)\n",
      "Requirement already satisfied: typer<0.10.0,>=0.3.0 in \/opt\/python\/envs\/minimal\/lib\/python3.8\/site-packages (from spacy<3.8.0,>=3.7.2->en-core-web-sm==3.7.1) (0.9.0)\n",
      "Requirement already satisfied: smart-open<7.0.0,>=5.2.1 in \/opt\/python\/envs\/minimal\/lib\/python3.8\/site-packages (from spacy<3.8.0,>=3.7.2->en-core-web-sm==3.7.1) (6.4.0)\n",
      "Requirement already satisfied: tqdm<5.0.0,>=4.38.0 in \/opt\/python\/envs\/minimal\/lib\/python3.8\/site-packages (from spacy<3.8.0,>=3.7.2->en-core-web-sm==3.7.1) (4.66.1)\n",
      "Requirement already satisfied: requests<3.0.0,>=2.13.0 in \/opt\/python\/envs\/minimal\/lib\/python3.8\/site-packages (from spacy<3.8.0,>=3.7.2->en-core-web-sm==3.7.1) (2.31.0)\n",
      "Requirement already satisfied: pydantic!=1.8,!=1.8.1,<3.0.0,>=1.7.4 in \/opt\/python\/envs\/minimal\/lib\/python3.8\/site-packages (from spacy<3.8.0,>=3.7.2->en-core-web-sm==3.7.1) (2.5.3)\n",
      "Requirement already satisfied: jinja2 in \/opt\/python\/envs\/minimal\/lib\/python3.8\/site-packages (from spacy<3.8.0,>=3.7.2->en-core-web-sm==3.7.1) (3.1.2)\n",
      "Requirement already satisfied: setuptools in \/opt\/python\/envs\/minimal\/lib\/python3.8\/site-packages (from spacy<3.8.0,>=3.7.2->en-core-web-sm==3.7.1) (56.0.0)\n",
      "Requirement already satisfied: packaging>=20.0 in \/opt\/python\/envs\/minimal\/lib\/python3.8\/site-packages (from spacy<3.8.0,>=3.7.2->en-core-web-sm==3.7.1) (23.1)\n",
      "Requirement already satisfied: langcodes<4.0.0,>=3.2.0 in \/opt\/python\/envs\/minimal\/lib\/python3.8\/site-packages (from spacy<3.8.0,>=3.7.2->en-core-web-sm==3.7.1) (3.3.0)\n",
      "Requirement already satisfied: numpy>=1.15.0 in \/opt\/python\/envs\/minimal\/lib\/python3.8\/site-packages (from spacy<3.8.0,>=3.7.2->en-core-web-sm==3.7.1) (1.24.3)\n",
      "Requirement already satisfied: annotated-types>=0.4.0 in \/opt\/python\/envs\/minimal\/lib\/python3.8\/site-packages (from pydantic!=1.8,!=1.8.1,<3.0.0,>=1.7.4->spacy<3.8.0,>=3.7.2->en-core-web-sm==3.7.1) (0.6.0)\n",
      "Requirement already satisfied: pydantic-core==2.14.6 in \/opt\/python\/envs\/minimal\/lib\/python3.8\/site-packages (from pydantic!=1.8,!=1.8.1,<3.0.0,>=1.7.4->spacy<3.8.0,>=3.7.2->en-core-web-sm==3.7.1) (2.14.6)\n",
      "Requirement already satisfied: typing-extensions>=4.6.1 in \/opt\/python\/envs\/minimal\/lib\/python3.8\/site-packages (from pydantic!=1.8,!=1.8.1,<3.0.0,>=1.7.4->spacy<3.8.0,>=3.7.2->en-core-web-sm==3.7.1) (4.7.1)\n",
      "Requirement already satisfied: charset-normalizer<4,>=2 in \/opt\/python\/envs\/minimal\/lib\/python3.8\/site-packages (from requests<3.0.0,>=2.13.0->spacy<3.8.0,>=3.7.2->en-core-web-sm==3.7.1) (3.2.0)\n",
      "Requirement already satisfied: idna<4,>=2.5 in \/opt\/python\/envs\/minimal\/lib\/python3.8\/site-packages (from requests<3.0.0,>=2.13.0->spacy<3.8.0,>=3.7.2->en-core-web-sm==3.7.1) (3.4)\n",
      "Requirement already satisfied: urllib3<3,>=1.21.1 in \/opt\/python\/envs\/minimal\/lib\/python3.8\/site-packages (from requests<3.0.0,>=2.13.0->spacy<3.8.0,>=3.7.2->en-core-web-sm==3.7.1) (1.26.16)\n",
      "Requirement already satisfied: certifi>=2017.4.17 in \/opt\/python\/envs\/minimal\/lib\/python3.8\/site-packages (from requests<3.0.0,>=2.13.0->spacy<3.8.0,>=3.7.2->en-core-web-sm==3.7.1) (2023.7.22)\n",
      "Requirement already satisfied: blis<0.8.0,>=0.7.8 in \/opt\/python\/envs\/minimal\/lib\/python3.8\/site-packages (from thinc<8.3.0,>=8.1.8->spacy<3.8.0,>=3.7.2->en-core-web-sm==3.7.1) (0.7.11)\n",
      "Requirement already satisfied: confection<1.0.0,>=0.0.1 in \/opt\/python\/envs\/minimal\/lib\/python3.8\/site-packages (from thinc<8.3.0,>=8.1.8->spacy<3.8.0,>=3.7.2->en-core-web-sm==3.7.1) (0.1.4)\n",
      "Requirement already satisfied: click<9.0.0,>=7.1.1 in \/opt\/python\/envs\/minimal\/lib\/python3.8\/site-packages (from typer<0.10.0,>=0.3.0->spacy<3.8.0,>=3.7.2->en-core-web-sm==3.7.1) (8.1.7)\n",
      "Requirement already satisfied: cloudpathlib<0.17.0,>=0.7.0 in \/opt\/python\/envs\/minimal\/lib\/python3.8\/site-packages (from weasel<0.4.0,>=0.1.0->spacy<3.8.0,>=3.7.2->en-core-web-sm==3.7.1) (0.16.0)\n",
      "Requirement already satisfied: MarkupSafe>=2.0 in \/opt\/python\/envs\/minimal\/lib\/python3.8\/site-packages (from jinja2->spacy<3.8.0,>=3.7.2->en-core-web-sm==3.7.1) (2.1.3)\n",
      "\n",
      "[notice] A new release of pip is available: 23.1.2 -> 23.3.2\n",
      "[notice] To update, run: pip install --upgrade pip\n",
      "\u001b[38;5;2m✔ Download and installation successful\u001b[0m\n",
      "You can now load the package via spacy.load('en_core_web_sm')\n"
     ],
     "output_type":"stream"
    }
   ],
   "metadata":{
    "datalore":{
     "node_id":"lAXiB4lmB6eT6o5Mm9dkRO",
     "type":"CODE",
     "hide_input_from_viewers":false,
     "hide_output_from_viewers":false,
     "report_properties":{
      "rowId":"raoGfOzl19l73GxThpr2zr",
      "relativeY":0
     }
    }
   }
  },
  {
   "cell_type":"code",
   "source":[
    "subs = pysrt.open(\"ides_of_march.srt\", encoding=\"latin-1\")\n",
    "\n",
    "DF = pd.DataFrame([\n",
    "  {\n",
    "    \"Text\": sub.text,\n",
    "    \"Start\": sub.start.seconds,\n",
    "    \"End\": sub.end.seconds\n",
    "} for sub in subs])\n",
    "\n",
    "DF.head()"
   ],
   "execution_count":43,
   "outputs":[
    {
     "data":{
      "text\/html":[
       "<div>\n",
       "<style scoped>\n",
       "    .dataframe tbody tr th:only-of-type {\n",
       "        vertical-align: middle;\n",
       "    }\n",
       "\n",
       "    .dataframe tbody tr th {\n",
       "        vertical-align: top;\n",
       "    }\n",
       "\n",
       "    .dataframe thead th {\n",
       "        text-align: right;\n",
       "    }\n",
       "<\/style>\n",
       "<table border=\"1\" class=\"dataframe\">\n",
       "  <thead>\n",
       "    <tr style=\"text-align: right;\">\n",
       "      <th><\/th>\n",
       "      <th>Text<\/th>\n",
       "      <th>Start<\/th>\n",
       "      <th>End<\/th>\n",
       "    <\/tr>\n",
       "  <\/thead>\n",
       "  <tbody>\n",
       "    <tr>\n",
       "      <th>0<\/th>\n",
       "      <td>I'm not a Christian. I'm not an atheist.<\/td>\n",
       "      <td>52<\/td>\n",
       "      <td>55<\/td>\n",
       "    <\/tr>\n",
       "    <tr>\n",
       "      <th>1<\/th>\n",
       "      <td>I'm not Jewish. I'm not Muslim.<\/td>\n",
       "      <td>56<\/td>\n",
       "      <td>59<\/td>\n",
       "    <\/tr>\n",
       "    <tr>\n",
       "      <th>2<\/th>\n",
       "      <td>My religion and what I believe in<\/td>\n",
       "      <td>59<\/td>\n",
       "      <td>3<\/td>\n",
       "    <\/tr>\n",
       "    <tr>\n",
       "      <th>3<\/th>\n",
       "      <td>is called the Constitution\\nof the United Stat...<\/td>\n",
       "      <td>3<\/td>\n",
       "      <td>7<\/td>\n",
       "    <\/tr>\n",
       "    <tr>\n",
       "      <th>4<\/th>\n",
       "      <td>- Hang on.\\n- Did you get that?<\/td>\n",
       "      <td>26<\/td>\n",
       "      <td>28<\/td>\n",
       "    <\/tr>\n",
       "  <\/tbody>\n",
       "<\/table>\n",
       "<\/div>"
      ]
     },
     "metadata":{
      
     },
     "output_type":"display_data"
    }
   ],
   "metadata":{
    "datalore":{
     "node_id":"b0kDv8vhYjJGQ9EA62CJZN",
     "type":"CODE",
     "hide_input_from_viewers":false,
     "hide_output_from_viewers":false,
     "report_properties":{
      "rowId":"MWSvcyaeJCqk1kDBXxRPsK",
      "relativeY":0
     }
    }
   }
  },
  {
   "cell_type":"markdown",
   "source":[
    "##### Fix Errors. \n",
    " \n",
    "Looks like there are some suspsicious\/impure characters like #, <, >, &, -, \\ etc. I am going to clean all that data below. "
   ],
   "attachments":{
    
   },
   "metadata":{
    "datalore":{
     "node_id":"3IEZvy3RRsyHA5WvNhdZIQ",
     "type":"MD",
     "hide_input_from_viewers":false,
     "hide_output_from_viewers":false,
     "report_properties":{
      "rowId":"nDoUQ83L29t1C4jN8U53cl",
      "relativeY":0
     }
    }
   }
  },
  {
   "cell_type":"code",
   "source":[
    "# Regular expression pattern to identify suspicious characters\n",
    "RE_SUSPICIOUS = re.compile(r'[&#<>{}\\-\\[\\]\\\\]')\n",
    "\n",
    "# Function to calculate the proportion of suspicious characters in a text\n",
    "def impurity(text, min_len=0):\n",
    "    \"\"\"Returns the share of suspicious characters in a text\"\"\"\n",
    "    if text is None or len(text) < min_len:\n",
    "        return 0\n",
    "    else:\n",
    "        # Calculating the impurity score\n",
    "        impurity_score = (len(RE_SUSPICIOUS.findall(text)) \/ len(text)) * 100\n",
    "        return impurity_score\n",
    "\n",
    "# Applying the impurity function to the 'Text' column of DataFrame DF\n",
    "DF['score'] = DF['Text'].apply(impurity)\n",
    "\n",
    "# Sorting the DataFrame based on the 'score' column in descending order and displaying the top 10 entries\n",
    "DF.sort_values(['score'], ascending=[False]).head(10)"
   ],
   "execution_count":17,
   "outputs":[
    {
     "data":{
      "text\/html":[
       "<div>\n",
       "<style scoped>\n",
       "    .dataframe tbody tr th:only-of-type {\n",
       "        vertical-align: middle;\n",
       "    }\n",
       "\n",
       "    .dataframe tbody tr th {\n",
       "        vertical-align: top;\n",
       "    }\n",
       "\n",
       "    .dataframe thead th {\n",
       "        text-align: right;\n",
       "    }\n",
       "<\/style>\n",
       "<table border=\"1\" class=\"dataframe\">\n",
       "  <thead>\n",
       "    <tr style=\"text-align: right;\">\n",
       "      <th><\/th>\n",
       "      <th>Text<\/th>\n",
       "      <th>Start<\/th>\n",
       "      <th>End<\/th>\n",
       "      <th>score<\/th>\n",
       "    <\/tr>\n",
       "  <\/thead>\n",
       "  <tbody>\n",
       "    <tr>\n",
       "      <th>170<\/th>\n",
       "      <td># While I #<\/td>\n",
       "      <td>59<\/td>\n",
       "      <td>2<\/td>\n",
       "      <td>18.181818<\/td>\n",
       "    <\/tr>\n",
       "    <tr>\n",
       "      <th>215<\/th>\n",
       "      <td>- Win-win.\\n- Okay.<\/td>\n",
       "      <td>6<\/td>\n",
       "      <td>9<\/td>\n",
       "      <td>16.666667<\/td>\n",
       "    <\/tr>\n",
       "    <tr>\n",
       "      <th>219<\/th>\n",
       "      <td>- Hey.\\n- Hey.<\/td>\n",
       "      <td>26<\/td>\n",
       "      <td>27<\/td>\n",
       "      <td>15.384615<\/td>\n",
       "    <\/tr>\n",
       "    <tr>\n",
       "      <th>169<\/th>\n",
       "      <td># 'Scuse me #<\/td>\n",
       "      <td>55<\/td>\n",
       "      <td>59<\/td>\n",
       "      <td>15.384615<\/td>\n",
       "    <\/tr>\n",
       "    <tr>\n",
       "      <th>171<\/th>\n",
       "      <td># Disappear #<\/td>\n",
       "      <td>2<\/td>\n",
       "      <td>4<\/td>\n",
       "      <td>15.384615<\/td>\n",
       "    <\/tr>\n",
       "    <tr>\n",
       "      <th>1062<\/th>\n",
       "      <td>- Who?\\n- Paul.<\/td>\n",
       "      <td>28<\/td>\n",
       "      <td>30<\/td>\n",
       "      <td>14.285714<\/td>\n",
       "    <\/tr>\n",
       "    <tr>\n",
       "      <th>493<\/th>\n",
       "      <td>- Twenty.\\n- Yep.<\/td>\n",
       "      <td>13<\/td>\n",
       "      <td>15<\/td>\n",
       "      <td>12.500000<\/td>\n",
       "    <\/tr>\n",
       "    <tr>\n",
       "      <th>556<\/th>\n",
       "      <td>- I was?\\n- Yeah.<\/td>\n",
       "      <td>23<\/td>\n",
       "      <td>25<\/td>\n",
       "      <td>12.500000<\/td>\n",
       "    <\/tr>\n",
       "    <tr>\n",
       "      <th>780<\/th>\n",
       "      <td>- Molly?\\n- Hello?<\/td>\n",
       "      <td>24<\/td>\n",
       "      <td>26<\/td>\n",
       "      <td>11.764706<\/td>\n",
       "    <\/tr>\n",
       "    <tr>\n",
       "      <th>1074<\/th>\n",
       "      <td>- Yeah.\\n- Oh, no.<\/td>\n",
       "      <td>59<\/td>\n",
       "      <td>1<\/td>\n",
       "      <td>11.764706<\/td>\n",
       "    <\/tr>\n",
       "  <\/tbody>\n",
       "<\/table>\n",
       "<\/div>"
      ]
     },
     "metadata":{
      
     },
     "output_type":"display_data"
    }
   ],
   "metadata":{
    "datalore":{
     "node_id":"R0p2ZNbVlwykBydGJ1qomu",
     "type":"CODE",
     "hide_input_from_viewers":false,
     "hide_output_from_viewers":false,
     "report_properties":{
      "rowId":"KW5qzMAcXUNmeB2ztCIbOK",
      "relativeY":0
     }
    }
   }
  },
  {
   "cell_type":"code",
   "source":[
    "\n",
    "\n",
    "import nltk\n",
    "\n",
    "# Importing textacy for text preprocessing\n",
    "import textacy.preprocessing as tprep\n",
    "#nltk.download('punkt')\n",
    "\n",
    "# Defining a function for text normalization\n",
    "def normalize(text):\n",
    "    # Applying various cleaning techniques\n",
    "    text = tprep.normalize.hyphenated_words(text)\n",
    "    text = tprep.normalize.quotation_marks(text)\n",
    "    text = tprep.normalize.unicode(text)\n",
    "    text = tprep.remove.accents(text)\n",
    "    text = tprep.replace.phone_numbers(text)\n",
    "    text = tprep.replace.urls(text)\n",
    "    text = tprep.replace.emails(text)\n",
    "    text = tprep.replace.user_handles(text)\n",
    "    text = tprep.replace.emojis(text)\n",
    "    # Stripping any extra spaces\n",
    "    text = text.strip()\n",
    "    return text\n",
    "\n",
    "# Applying the normalization function to the 'Text' column of DataFrame DF\n",
    "DF['clean'] = DF['Text'].apply(normalize)"
   ],
   "execution_count":18,
   "outputs":[
    
   ],
   "metadata":{
    "datalore":{
     "node_id":"e1CAC0xWs7VkeJZY8oBzhU",
     "type":"CODE",
     "hide_input_from_viewers":false,
     "hide_output_from_viewers":false,
     "report_properties":{
      "rowId":"qTx0461l1upIgBmouik4fb",
      "relativeY":0
     }
    }
   }
  },
  {
   "cell_type":"code",
   "source":[
    "# Removing all the previously defined suspisious characters using the regex function. \n",
    "DF['clean_text'] = DF['clean'].apply(lambda x: re.sub(RE_SUSPICIOUS, ' ', x))\n",
    "DF.sort_values(['score'], ascending = [False]).head(10)"
   ],
   "execution_count":19,
   "outputs":[
    {
     "data":{
      "text\/html":[
       "<div>\n",
       "<style scoped>\n",
       "    .dataframe tbody tr th:only-of-type {\n",
       "        vertical-align: middle;\n",
       "    }\n",
       "\n",
       "    .dataframe tbody tr th {\n",
       "        vertical-align: top;\n",
       "    }\n",
       "\n",
       "    .dataframe thead th {\n",
       "        text-align: right;\n",
       "    }\n",
       "<\/style>\n",
       "<table border=\"1\" class=\"dataframe\">\n",
       "  <thead>\n",
       "    <tr style=\"text-align: right;\">\n",
       "      <th><\/th>\n",
       "      <th>Text<\/th>\n",
       "      <th>Start<\/th>\n",
       "      <th>End<\/th>\n",
       "      <th>score<\/th>\n",
       "      <th>clean<\/th>\n",
       "      <th>clean_text<\/th>\n",
       "    <\/tr>\n",
       "  <\/thead>\n",
       "  <tbody>\n",
       "    <tr>\n",
       "      <th>170<\/th>\n",
       "      <td># While I #<\/td>\n",
       "      <td>59<\/td>\n",
       "      <td>2<\/td>\n",
       "      <td>18.181818<\/td>\n",
       "      <td># While I #<\/td>\n",
       "      <td>While I<\/td>\n",
       "    <\/tr>\n",
       "    <tr>\n",
       "      <th>215<\/th>\n",
       "      <td>- Win-win.\\n- Okay.<\/td>\n",
       "      <td>6<\/td>\n",
       "      <td>9<\/td>\n",
       "      <td>16.666667<\/td>\n",
       "      <td>- Win-win.\\n- Okay.<\/td>\n",
       "      <td>Win win.\\n  Okay.<\/td>\n",
       "    <\/tr>\n",
       "    <tr>\n",
       "      <th>219<\/th>\n",
       "      <td>- Hey.\\n- Hey.<\/td>\n",
       "      <td>26<\/td>\n",
       "      <td>27<\/td>\n",
       "      <td>15.384615<\/td>\n",
       "      <td>- Hey.\\n- Hey.<\/td>\n",
       "      <td>Hey.\\n  Hey.<\/td>\n",
       "    <\/tr>\n",
       "    <tr>\n",
       "      <th>169<\/th>\n",
       "      <td># 'Scuse me #<\/td>\n",
       "      <td>55<\/td>\n",
       "      <td>59<\/td>\n",
       "      <td>15.384615<\/td>\n",
       "      <td># 'Scuse me #<\/td>\n",
       "      <td>'Scuse me<\/td>\n",
       "    <\/tr>\n",
       "    <tr>\n",
       "      <th>171<\/th>\n",
       "      <td># Disappear #<\/td>\n",
       "      <td>2<\/td>\n",
       "      <td>4<\/td>\n",
       "      <td>15.384615<\/td>\n",
       "      <td># Disappear #<\/td>\n",
       "      <td>Disappear<\/td>\n",
       "    <\/tr>\n",
       "    <tr>\n",
       "      <th>1062<\/th>\n",
       "      <td>- Who?\\n- Paul.<\/td>\n",
       "      <td>28<\/td>\n",
       "      <td>30<\/td>\n",
       "      <td>14.285714<\/td>\n",
       "      <td>- Who?\\n- Paul.<\/td>\n",
       "      <td>Who?\\n  Paul.<\/td>\n",
       "    <\/tr>\n",
       "    <tr>\n",
       "      <th>493<\/th>\n",
       "      <td>- Twenty.\\n- Yep.<\/td>\n",
       "      <td>13<\/td>\n",
       "      <td>15<\/td>\n",
       "      <td>12.500000<\/td>\n",
       "      <td>- Twenty.\\n- Yep.<\/td>\n",
       "      <td>Twenty.\\n  Yep.<\/td>\n",
       "    <\/tr>\n",
       "    <tr>\n",
       "      <th>556<\/th>\n",
       "      <td>- I was?\\n- Yeah.<\/td>\n",
       "      <td>23<\/td>\n",
       "      <td>25<\/td>\n",
       "      <td>12.500000<\/td>\n",
       "      <td>- I was?\\n- Yeah.<\/td>\n",
       "      <td>I was?\\n  Yeah.<\/td>\n",
       "    <\/tr>\n",
       "    <tr>\n",
       "      <th>780<\/th>\n",
       "      <td>- Molly?\\n- Hello?<\/td>\n",
       "      <td>24<\/td>\n",
       "      <td>26<\/td>\n",
       "      <td>11.764706<\/td>\n",
       "      <td>- Molly?\\n- Hello?<\/td>\n",
       "      <td>Molly?\\n  Hello?<\/td>\n",
       "    <\/tr>\n",
       "    <tr>\n",
       "      <th>1074<\/th>\n",
       "      <td>- Yeah.\\n- Oh, no.<\/td>\n",
       "      <td>59<\/td>\n",
       "      <td>1<\/td>\n",
       "      <td>11.764706<\/td>\n",
       "      <td>- Yeah.\\n- Oh, no.<\/td>\n",
       "      <td>Yeah.\\n  Oh, no.<\/td>\n",
       "    <\/tr>\n",
       "  <\/tbody>\n",
       "<\/table>\n",
       "<\/div>"
      ]
     },
     "metadata":{
      
     },
     "output_type":"display_data"
    }
   ],
   "metadata":{
    "datalore":{
     "node_id":"uI0X2kLVkXVLpi5N4RBCvd",
     "type":"CODE",
     "hide_input_from_viewers":false,
     "hide_output_from_viewers":false,
     "report_properties":{
      "rowId":"aaGtqc2rOmup5DzsNJJoaK",
      "relativeY":0
     }
    }
   }
  },
  {
   "cell_type":"code",
   "source":[
    "# Reexamining impurity after removing suspicious characters\n",
    "DF['clean_text'].apply(impurity).sort_values(ascending=[False]).head(10)"
   ],
   "execution_count":20,
   "outputs":[
    {
     "data":{
      "text\/html":[
       "<pre>0      0.0\n",
       "916    0.0\n",
       "924    0.0\n",
       "923    0.0\n",
       "922    0.0\n",
       "921    0.0\n",
       "920    0.0\n",
       "919    0.0\n",
       "918    0.0\n",
       "917    0.0\n",
       "Name: clean_text, dtype: float64<\/pre>"
      ]
     },
     "metadata":{
      
     },
     "output_type":"display_data"
    }
   ],
   "metadata":{
    "datalore":{
     "node_id":"KfRgSqkUaUsFZwtw4fBrHb",
     "type":"CODE",
     "hide_input_from_viewers":false,
     "hide_output_from_viewers":false,
     "report_properties":{
      "rowId":"dpvq49EL2e2KNiLQ2r4vt9",
      "relativeY":0
     }
    }
   }
  },
  {
   "cell_type":"markdown",
   "source":[
    "##### Write a paragraph explaining the process of cleaning data for a your NLP pipeline. You should explain the errors you found in the dataset and how you fixed them. Why did you think these things were important to fix for this project?\n",
    "\n",
    "As we can see from the above result, impurity in text is cleaned now. \n",
    "\n",
    "First, I stored the subtitle data in a pandas dataframe. After doing so, i manually checked the text data to see if there are any impure characters in the dataset that might affect the NLP analysis later on and found that there are some characters like  #, <, >, &, -, \\ and removed them using regex. Then i used textacy apply a series of text normalizations, including hyphenated words, quotation marks, Unicode characters, accent removal, replacement of phone numbers, URLs, emails, user handles, and emojis, to preprocess and standardize the input text.\n",
    "                                              "
   ],
   "attachments":{
    
   },
   "metadata":{
    "datalore":{
     "node_id":"oAAhN8J2IPeUfu5rC9vXzc",
     "type":"MD",
     "hide_input_from_viewers":false,
     "hide_output_from_viewers":false,
     "report_properties":{
      "rowId":"i7ij9kvRo3OF4tP6AZGPLh",
      "relativeY":0
     }
    }
   }
  },
  {
   "cell_type":"markdown",
   "source":[
    "#### Part of Speech Tagging\n",
    "\n",
    "- Tag your data with spacy’s part of speech tagger.\n",
    "- Convert this data into a Pandas DataFrame.\n",
    "- Use the dataframe to calculate the most common parts of speech.\n",
    "- What is the most common part of speech?\n",
    "- Do you see words that are multiple parts of speech?\n",
    "- What can you learn about the text from examining the most common nouns and verbs?"
   ],
   "attachments":{
    
   },
   "metadata":{
    "datalore":{
     "node_id":"wACOuua2VYpoN6LtDXEYvj",
     "type":"MD",
     "hide_input_from_viewers":false,
     "hide_output_from_viewers":false,
     "report_properties":{
      "rowId":"lI5TFa4e02gXj6327OZxkU",
      "relativeY":0
     }
    }
   }
  },
  {
   "cell_type":"code",
   "source":[
    "# Extracting spaCy tags for words in the 'clean_text' column\n",
    "spacy_tags = []\n",
    "\n",
    "# Iterating through each row in the 'clean_text' column\n",
    "for row in DF['clean_text'].to_list():\n",
    "    # Tokenizing the text using spaCy\n",
    "    for word in nlp(row):\n",
    "        # Excluding tokens that are only spaces\n",
    "        if not word.is_space:\n",
    "            # Appending word, specific tag, and universal tag to the list\n",
    "            spacy_tags.append((str(word), str(word.tag_), str(word.pos_)))\n",
    "\n",
    "# Creating a DataFrame DF_tags from the spaCy tags list\n",
    "DF_tags = pd.DataFrame(spacy_tags, columns=['word', 'specific', 'universal'])\n",
    "DF_tags.head()"
   ],
   "execution_count":21,
   "outputs":[
    {
     "data":{
      "text\/html":[
       "<div>\n",
       "<style scoped>\n",
       "    .dataframe tbody tr th:only-of-type {\n",
       "        vertical-align: middle;\n",
       "    }\n",
       "\n",
       "    .dataframe tbody tr th {\n",
       "        vertical-align: top;\n",
       "    }\n",
       "\n",
       "    .dataframe thead th {\n",
       "        text-align: right;\n",
       "    }\n",
       "<\/style>\n",
       "<table border=\"1\" class=\"dataframe\">\n",
       "  <thead>\n",
       "    <tr style=\"text-align: right;\">\n",
       "      <th><\/th>\n",
       "      <th>word<\/th>\n",
       "      <th>specific<\/th>\n",
       "      <th>universal<\/th>\n",
       "    <\/tr>\n",
       "  <\/thead>\n",
       "  <tbody>\n",
       "    <tr>\n",
       "      <th>0<\/th>\n",
       "      <td>I<\/td>\n",
       "      <td>PRP<\/td>\n",
       "      <td>PRON<\/td>\n",
       "    <\/tr>\n",
       "    <tr>\n",
       "      <th>1<\/th>\n",
       "      <td>'m<\/td>\n",
       "      <td>VBP<\/td>\n",
       "      <td>AUX<\/td>\n",
       "    <\/tr>\n",
       "    <tr>\n",
       "      <th>2<\/th>\n",
       "      <td>not<\/td>\n",
       "      <td>RB<\/td>\n",
       "      <td>PART<\/td>\n",
       "    <\/tr>\n",
       "    <tr>\n",
       "      <th>3<\/th>\n",
       "      <td>a<\/td>\n",
       "      <td>DT<\/td>\n",
       "      <td>DET<\/td>\n",
       "    <\/tr>\n",
       "    <tr>\n",
       "      <th>4<\/th>\n",
       "      <td>Christian<\/td>\n",
       "      <td>NNP<\/td>\n",
       "      <td>PROPN<\/td>\n",
       "    <\/tr>\n",
       "  <\/tbody>\n",
       "<\/table>\n",
       "<\/div>"
      ]
     },
     "metadata":{
      
     },
     "output_type":"display_data"
    }
   ],
   "metadata":{
    "datalore":{
     "node_id":"qVB9uCSaJMaGxHZkqwpi4w",
     "type":"CODE",
     "hide_input_from_viewers":false,
     "hide_output_from_viewers":false,
     "report_properties":{
      "rowId":"96MRtJ4VDoJclwY8e6bJd0",
      "relativeY":0
     }
    }
   }
  },
  {
   "cell_type":"code",
   "source":[
    "# Counting the most common part of speech (universal) in the DataFrame DF_tags\n",
    "DF_tags['universal'].value_counts()"
   ],
   "execution_count":8,
   "outputs":[
    {
     "data":{
      "text\/html":[
       "<pre>PRON     2411\n",
       "PUNCT    2404\n",
       "VERB     1842\n",
       "NOUN     1418\n",
       "AUX      1136\n",
       "ADP       856\n",
       "DET       807\n",
       "PROPN     639\n",
       "PART      572\n",
       "ADJ       522\n",
       "ADV       500\n",
       "SCONJ     312\n",
       "CCONJ     278\n",
       "INTJ      246\n",
       "NUM       114\n",
       "Name: universal, dtype: int64<\/pre>"
      ]
     },
     "metadata":{
      
     },
     "output_type":"display_data"
    }
   ],
   "metadata":{
    "datalore":{
     "node_id":"S3ngS3YvgTznUtME0VTknd",
     "type":"CODE",
     "hide_input_from_viewers":false,
     "hide_output_from_viewers":false,
     "report_properties":{
      "rowId":"bTH0KRf66J3Uvd28bYobUD",
      "relativeY":0
     }
    }
   }
  },
  {
   "cell_type":"markdown",
   "source":[
    "\n",
    "The analysis of the DF_tags DataFrame reveals the distribution of universal parts of speech in the processed text. Here's a summary of the top 5 most common universal parts of speech based on the provided result:\n",
    "\n",
    "Pronoun (PRON): Pronouns are the most frequently occurring universal part of speech, with 2411 occurrences in the text. Pronouns typically replace or refer to nouns.\n",
    "\n",
    "Punctuation (PUNCT): Punctuation marks come second in frequency, with 2404 occurrences. Punctuation plays a crucial role in structuring sentences and conveying meaning.\n",
    "\n",
    "Verb (VERB): Verbs are the third most common universal part of speech, appearing 1842 times. Verbs denote actions, processes, or states.\n",
    "\n",
    "Noun (NOUN): Nouns are the fourth most common, with 1418 occurrences. Nouns represent people, places, things, or ideas.\n",
    "\n",
    "Auxiliary Verb (AUX): Auxiliary verbs rank fifth, appearing 1136 times. Auxiliary verbs, such as \"is,\" \"have,\" or \"will,\" accompany main verbs to convey tense, mood, or aspect.\n",
    "\n",
    "In summary, the most prevalent universal parts of speech in the analyzed text are pronouns, punctuation marks, verbs, nouns, and auxiliary verbs. This information provides insights into the composition of the text and the distribution of different linguistic elements."
   ],
   "attachments":{
    
   },
   "metadata":{
    "datalore":{
     "node_id":"6WveCfYsryH5EdzVBKACa4",
     "type":"MD",
     "hide_input_from_viewers":false,
     "hide_output_from_viewers":false,
     "report_properties":{
      "rowId":"wQdNwaKfyanTLK1bl9uJH3",
      "relativeY":0
     }
    }
   }
  },
  {
   "cell_type":"code",
   "source":[
    "# Analyzing words that have multiple parts of speech\n",
    "pd.crosstab(DF_tags['word'], DF_tags['universal'])"
   ],
   "execution_count":9,
   "outputs":[
    {
     "data":{
      "text\/html":[
       "<div>\n",
       "<style scoped>\n",
       "    .dataframe tbody tr th:only-of-type {\n",
       "        vertical-align: middle;\n",
       "    }\n",
       "\n",
       "    .dataframe tbody tr th {\n",
       "        vertical-align: top;\n",
       "    }\n",
       "\n",
       "    .dataframe thead th {\n",
       "        text-align: right;\n",
       "    }\n",
       "<\/style>\n",
       "<table border=\"1\" class=\"dataframe\">\n",
       "  <thead>\n",
       "    <tr style=\"text-align: right;\">\n",
       "      <th>universal<\/th>\n",
       "      <th>ADJ<\/th>\n",
       "      <th>ADP<\/th>\n",
       "      <th>ADV<\/th>\n",
       "      <th>AUX<\/th>\n",
       "      <th>CCONJ<\/th>\n",
       "      <th>DET<\/th>\n",
       "      <th>INTJ<\/th>\n",
       "      <th>NOUN<\/th>\n",
       "      <th>NUM<\/th>\n",
       "      <th>PART<\/th>\n",
       "      <th>PRON<\/th>\n",
       "      <th>PROPN<\/th>\n",
       "      <th>PUNCT<\/th>\n",
       "      <th>SCONJ<\/th>\n",
       "      <th>VERB<\/th>\n",
       "    <\/tr>\n",
       "    <tr>\n",
       "      <th>word<\/th>\n",
       "      <th><\/th>\n",
       "      <th><\/th>\n",
       "      <th><\/th>\n",
       "      <th><\/th>\n",
       "      <th><\/th>\n",
       "      <th><\/th>\n",
       "      <th><\/th>\n",
       "      <th><\/th>\n",
       "      <th><\/th>\n",
       "      <th><\/th>\n",
       "      <th><\/th>\n",
       "      <th><\/th>\n",
       "      <th><\/th>\n",
       "      <th><\/th>\n",
       "      <th><\/th>\n",
       "    <\/tr>\n",
       "  <\/thead>\n",
       "  <tbody>\n",
       "    <tr>\n",
       "      <th>!<\/th>\n",
       "      <td>0<\/td>\n",
       "      <td>0<\/td>\n",
       "      <td>0<\/td>\n",
       "      <td>0<\/td>\n",
       "      <td>0<\/td>\n",
       "      <td>0<\/td>\n",
       "      <td>0<\/td>\n",
       "      <td>0<\/td>\n",
       "      <td>0<\/td>\n",
       "      <td>0<\/td>\n",
       "      <td>0<\/td>\n",
       "      <td>0<\/td>\n",
       "      <td>13<\/td>\n",
       "      <td>0<\/td>\n",
       "      <td>0<\/td>\n",
       "    <\/tr>\n",
       "    <tr>\n",
       "      <th>\"<\/th>\n",
       "      <td>0<\/td>\n",
       "      <td>0<\/td>\n",
       "      <td>0<\/td>\n",
       "      <td>0<\/td>\n",
       "      <td>0<\/td>\n",
       "      <td>0<\/td>\n",
       "      <td>0<\/td>\n",
       "      <td>0<\/td>\n",
       "      <td>0<\/td>\n",
       "      <td>0<\/td>\n",
       "      <td>0<\/td>\n",
       "      <td>0<\/td>\n",
       "      <td>50<\/td>\n",
       "      <td>0<\/td>\n",
       "      <td>0<\/td>\n",
       "    <\/tr>\n",
       "    <tr>\n",
       "      <th>'<\/th>\n",
       "      <td>0<\/td>\n",
       "      <td>0<\/td>\n",
       "      <td>0<\/td>\n",
       "      <td>0<\/td>\n",
       "      <td>0<\/td>\n",
       "      <td>0<\/td>\n",
       "      <td>0<\/td>\n",
       "      <td>0<\/td>\n",
       "      <td>0<\/td>\n",
       "      <td>8<\/td>\n",
       "      <td>0<\/td>\n",
       "      <td>0<\/td>\n",
       "      <td>2<\/td>\n",
       "      <td>0<\/td>\n",
       "      <td>0<\/td>\n",
       "    <\/tr>\n",
       "    <tr>\n",
       "      <th>'cause<\/th>\n",
       "      <td>0<\/td>\n",
       "      <td>0<\/td>\n",
       "      <td>0<\/td>\n",
       "      <td>0<\/td>\n",
       "      <td>0<\/td>\n",
       "      <td>0<\/td>\n",
       "      <td>0<\/td>\n",
       "      <td>0<\/td>\n",
       "      <td>0<\/td>\n",
       "      <td>0<\/td>\n",
       "      <td>0<\/td>\n",
       "      <td>0<\/td>\n",
       "      <td>0<\/td>\n",
       "      <td>1<\/td>\n",
       "      <td>0<\/td>\n",
       "    <\/tr>\n",
       "    <tr>\n",
       "      <th>'d<\/th>\n",
       "      <td>0<\/td>\n",
       "      <td>0<\/td>\n",
       "      <td>0<\/td>\n",
       "      <td>18<\/td>\n",
       "      <td>0<\/td>\n",
       "      <td>0<\/td>\n",
       "      <td>0<\/td>\n",
       "      <td>0<\/td>\n",
       "      <td>0<\/td>\n",
       "      <td>0<\/td>\n",
       "      <td>0<\/td>\n",
       "      <td>0<\/td>\n",
       "      <td>0<\/td>\n",
       "      <td>0<\/td>\n",
       "      <td>0<\/td>\n",
       "    <\/tr>\n",
       "    <tr>\n",
       "      <th>...<\/th>\n",
       "      <td>...<\/td>\n",
       "      <td>...<\/td>\n",
       "      <td>...<\/td>\n",
       "      <td>...<\/td>\n",
       "      <td>...<\/td>\n",
       "      <td>...<\/td>\n",
       "      <td>...<\/td>\n",
       "      <td>...<\/td>\n",
       "      <td>...<\/td>\n",
       "      <td>...<\/td>\n",
       "      <td>...<\/td>\n",
       "      <td>...<\/td>\n",
       "      <td>...<\/td>\n",
       "      <td>...<\/td>\n",
       "      <td>...<\/td>\n",
       "    <\/tr>\n",
       "    <tr>\n",
       "      <th>you<\/th>\n",
       "      <td>0<\/td>\n",
       "      <td>0<\/td>\n",
       "      <td>0<\/td>\n",
       "      <td>0<\/td>\n",
       "      <td>0<\/td>\n",
       "      <td>0<\/td>\n",
       "      <td>0<\/td>\n",
       "      <td>0<\/td>\n",
       "      <td>0<\/td>\n",
       "      <td>0<\/td>\n",
       "      <td>379<\/td>\n",
       "      <td>0<\/td>\n",
       "      <td>0<\/td>\n",
       "      <td>0<\/td>\n",
       "      <td>0<\/td>\n",
       "    <\/tr>\n",
       "    <tr>\n",
       "      <th>young<\/th>\n",
       "      <td>8<\/td>\n",
       "      <td>0<\/td>\n",
       "      <td>0<\/td>\n",
       "      <td>0<\/td>\n",
       "      <td>0<\/td>\n",
       "      <td>0<\/td>\n",
       "      <td>0<\/td>\n",
       "      <td>0<\/td>\n",
       "      <td>0<\/td>\n",
       "      <td>0<\/td>\n",
       "      <td>0<\/td>\n",
       "      <td>0<\/td>\n",
       "      <td>0<\/td>\n",
       "      <td>0<\/td>\n",
       "      <td>0<\/td>\n",
       "    <\/tr>\n",
       "    <tr>\n",
       "      <th>your<\/th>\n",
       "      <td>0<\/td>\n",
       "      <td>0<\/td>\n",
       "      <td>0<\/td>\n",
       "      <td>0<\/td>\n",
       "      <td>0<\/td>\n",
       "      <td>0<\/td>\n",
       "      <td>0<\/td>\n",
       "      <td>0<\/td>\n",
       "      <td>0<\/td>\n",
       "      <td>0<\/td>\n",
       "      <td>58<\/td>\n",
       "      <td>0<\/td>\n",
       "      <td>0<\/td>\n",
       "      <td>0<\/td>\n",
       "      <td>0<\/td>\n",
       "    <\/tr>\n",
       "    <tr>\n",
       "      <th>yours<\/th>\n",
       "      <td>0<\/td>\n",
       "      <td>0<\/td>\n",
       "      <td>0<\/td>\n",
       "      <td>0<\/td>\n",
       "      <td>0<\/td>\n",
       "      <td>0<\/td>\n",
       "      <td>0<\/td>\n",
       "      <td>1<\/td>\n",
       "      <td>0<\/td>\n",
       "      <td>0<\/td>\n",
       "      <td>0<\/td>\n",
       "      <td>0<\/td>\n",
       "      <td>0<\/td>\n",
       "      <td>0<\/td>\n",
       "      <td>0<\/td>\n",
       "    <\/tr>\n",
       "    <tr>\n",
       "      <th>yourself<\/th>\n",
       "      <td>0<\/td>\n",
       "      <td>0<\/td>\n",
       "      <td>0<\/td>\n",
       "      <td>0<\/td>\n",
       "      <td>0<\/td>\n",
       "      <td>0<\/td>\n",
       "      <td>0<\/td>\n",
       "      <td>0<\/td>\n",
       "      <td>0<\/td>\n",
       "      <td>0<\/td>\n",
       "      <td>8<\/td>\n",
       "      <td>0<\/td>\n",
       "      <td>0<\/td>\n",
       "      <td>0<\/td>\n",
       "      <td>0<\/td>\n",
       "    <\/tr>\n",
       "  <\/tbody>\n",
       "<\/table>\n",
       "<p>1840 rows × 15 columns<\/p>\n",
       "<\/div>"
      ]
     },
     "metadata":{
      
     },
     "output_type":"display_data"
    }
   ],
   "metadata":{
    "datalore":{
     "node_id":"TTHw4XesgS8Hz1h2vXN6Cm",
     "type":"CODE",
     "hide_input_from_viewers":false,
     "hide_output_from_viewers":false,
     "report_properties":{
      "rowId":"G3DD7pvB3sUzdarshSKcPH",
      "relativeY":0
     }
    }
   }
  },
  {
   "cell_type":"code",
   "source":[
    "# Counting the occurrences of each word and sorting to find the top 10 most frequent words\n",
    "word_counts = DF_tags.groupby('word')['universal'].count().reset_index()\n",
    "word_counts.sort_values(by='universal', ascending=False, inplace=True)\n",
    "top_words = word_counts.head(10)\n",
    "top_words"
   ],
   "execution_count":22,
   "outputs":[
    {
     "data":{
      "text\/html":[
       "<div>\n",
       "<style scoped>\n",
       "    .dataframe tbody tr th:only-of-type {\n",
       "        vertical-align: middle;\n",
       "    }\n",
       "\n",
       "    .dataframe tbody tr th {\n",
       "        vertical-align: top;\n",
       "    }\n",
       "\n",
       "    .dataframe thead th {\n",
       "        text-align: right;\n",
       "    }\n",
       "<\/style>\n",
       "<table border=\"1\" class=\"dataframe\">\n",
       "  <thead>\n",
       "    <tr style=\"text-align: right;\">\n",
       "      <th><\/th>\n",
       "      <th>word<\/th>\n",
       "      <th>universal<\/th>\n",
       "    <\/tr>\n",
       "  <\/thead>\n",
       "  <tbody>\n",
       "    <tr>\n",
       "      <th>11<\/th>\n",
       "      <td>.<\/td>\n",
       "      <td>1319<\/td>\n",
       "    <\/tr>\n",
       "    <tr>\n",
       "      <th>10<\/th>\n",
       "      <td>,<\/td>\n",
       "      <td>653<\/td>\n",
       "    <\/tr>\n",
       "    <tr>\n",
       "      <th>207<\/th>\n",
       "      <td>I<\/td>\n",
       "      <td>455<\/td>\n",
       "    <\/tr>\n",
       "    <tr>\n",
       "      <th>1835<\/th>\n",
       "      <td>you<\/td>\n",
       "      <td>379<\/td>\n",
       "    <\/tr>\n",
       "    <tr>\n",
       "      <th>1655<\/th>\n",
       "      <td>the<\/td>\n",
       "      <td>349<\/td>\n",
       "    <\/tr>\n",
       "    <tr>\n",
       "      <th>46<\/th>\n",
       "      <td>?<\/td>\n",
       "      <td>326<\/td>\n",
       "    <\/tr>\n",
       "    <tr>\n",
       "      <th>8<\/th>\n",
       "      <td>'s<\/td>\n",
       "      <td>236<\/td>\n",
       "    <\/tr>\n",
       "    <tr>\n",
       "      <th>1688<\/th>\n",
       "      <td>to<\/td>\n",
       "      <td>236<\/td>\n",
       "    <\/tr>\n",
       "    <tr>\n",
       "      <th>445<\/th>\n",
       "      <td>a<\/td>\n",
       "      <td>226<\/td>\n",
       "    <\/tr>\n",
       "    <tr>\n",
       "      <th>1065<\/th>\n",
       "      <td>it<\/td>\n",
       "      <td>190<\/td>\n",
       "    <\/tr>\n",
       "  <\/tbody>\n",
       "<\/table>\n",
       "<\/div>"
      ]
     },
     "metadata":{
      
     },
     "output_type":"display_data"
    }
   ],
   "metadata":{
    "datalore":{
     "node_id":"byGAUFX3T0IbkepelX2nfb",
     "type":"CODE",
     "hide_input_from_viewers":false,
     "hide_output_from_viewers":false,
     "report_properties":{
      "rowId":"9ItRbct5C8a80W6v5elx12",
      "relativeY":0
     }
    }
   }
  },
  {
   "cell_type":"markdown",
   "source":[
    "The above result shows the top words and their counts, allowing to analyze words that occur most frequently across various parts of speech."
   ],
   "attachments":{
    
   },
   "metadata":{
    "datalore":{
     "node_id":"YoHeWfEQAqLqmUMgUpYVYL",
     "type":"MD",
     "hide_input_from_viewers":false,
     "hide_output_from_viewers":false,
     "report_properties":{
      "rowId":"mNBkFpAdW5tb5jSGV2c5JT",
      "relativeY":0
     }
    }
   }
  },
  {
   "cell_type":"code",
   "source":[
    "# Filtering for nouns and verbs and finding the most common ones\n",
    "nouns_verbs_df = DF_tags[(DF_tags['universal'] == 'NOUN') | (DF_tags['universal'] == 'VERB')]\n",
    "\n",
    "# Finding the most common nouns\n",
    "most_common_nouns = nouns_verbs_df[nouns_verbs_df['universal'] == 'NOUN']['word'].value_counts().head(10)\n",
    "\n",
    "# Finding the most common verbs\n",
    "most_common_verbs = nouns_verbs_df[nouns_verbs_df['universal'] == 'VERB']['word'].value_counts().head(10)\n",
    "\n",
    "# Displaying the results for most common nouns\n",
    "print(\"Most Common Nouns:\")\n",
    "most_common_nouns"
   ],
   "execution_count":23,
   "outputs":[
    {
     "name":"stdout",
     "text":[
      "Most Common Nouns:\n"
     ],
     "output_type":"stream"
    },
    {
     "data":{
      "text\/html":[
       "<pre>campaign     31\n",
       "governor     27\n",
       "guy          18\n",
       "shit         16\n",
       "people       15\n",
       "delegates    14\n",
       "way          14\n",
       "story        14\n",
       "thing        14\n",
       "years        13\n",
       "Name: word, dtype: int64<\/pre>"
      ]
     },
     "metadata":{
      
     },
     "output_type":"display_data"
    }
   ],
   "metadata":{
    "datalore":{
     "node_id":"lIF5d6TI9DUOPgyiS9RplR",
     "type":"CODE",
     "hide_input_from_viewers":false,
     "hide_output_from_viewers":false,
     "report_properties":{
      "rowId":"eyhK5PeWcHpa8nyDPAq8S2",
      "relativeY":0
     }
    }
   }
  },
  {
   "cell_type":"markdown",
   "source":[
    "Looks like words like campaign, governer, people, delegates are few of the most common nouns in the text. This makes sense because the move 'ides of march' is about a political campaign where george clonney's character is governer running for president of the united states. "
   ],
   "attachments":{
    
   },
   "metadata":{
    "datalore":{
     "node_id":"t9ndFhAimOA5GaxvA1pABy",
     "type":"MD",
     "hide_input_from_viewers":false,
     "hide_output_from_viewers":false,
     "report_properties":{
      "rowId":"lUAi8CYq4i966fvOXbSRou",
      "relativeY":0
     }
    }
   }
  },
  {
   "cell_type":"code",
   "source":[
    "\n",
    "print(\"\\nMost Common Verbs:\")\n",
    "print(most_common_verbs)"
   ],
   "execution_count":12,
   "outputs":[
    {
     "name":"stdout",
     "text":[
      "\n",
      "Most Common Verbs:\n",
      "gon      85\n",
      "have     69\n",
      "know     66\n",
      "do       62\n",
      "get      51\n",
      "got      50\n",
      "think    41\n",
      "tell     30\n",
      "go       26\n",
      "going    26\n",
      "Name: word, dtype: int64\n"
     ],
     "output_type":"stream"
    }
   ],
   "metadata":{
    "datalore":{
     "node_id":"KUzZwa1g7qkLrdj1d2KFiq",
     "type":"CODE",
     "hide_input_from_viewers":false,
     "hide_output_from_viewers":false,
     "report_properties":{
      "rowId":"9Lac2ruPDr85Z3ZhVOJfz2",
      "relativeY":0
     }
    }
   }
  },
  {
   "cell_type":"markdown",
   "source":[
    "##### KPE (Key Phrase Extraction)\n",
    "\n",
    "In this part of the analysis, I'll be\n",
    "\n",
    "- Using textacy to find the key phrases in your text.\n",
    "\n",
    "- Using textacy utilities and combine like key phrases.\n",
    "\n",
    "- Learn about your text by using keyphrase analysis."
   ],
   "attachments":{
    
   },
   "metadata":{
    "datalore":{
     "node_id":"6F5Uvmn3irOOH1t9FRPyJq",
     "type":"MD",
     "hide_input_from_viewers":false,
     "hide_output_from_viewers":false,
     "report_properties":{
      "rowId":"RklnDClBggA7jF6McC41JV",
      "relativeY":0
     }
    }
   }
  },
  {
   "cell_type":"code",
   "source":[
    "import textacy\n",
    "import networkx as nx\n",
    "from matplotlib import pyplot as plt\n",
    "from itertools import chain\n",
    "\n",
    "# Combining text from the 'clean_text' column\n",
    "combined_doc = \" \".join(DF['clean_text'].to_list())\n",
    "\n",
    "# Building an English language model for textacy\n",
    "en = textacy.load_spacy_lang(\"en_core_web_sm\", disable=(\"parser\"))\n",
    "\n",
    "# Building a processor for textacy using spaCy and processing text\n",
    "doc = textacy.make_spacy_doc(combined_doc, lang=en)\n",
    "\n",
    "# Extracting key phrases and their TextRank scores from the subtitles\n",
    "key_phrases_textrank = textacy.extract.keyterms.textrank(doc)\n",
    "key_phrases_textrank"
   ],
   "execution_count":26,
   "outputs":[
    {
     "data":{
      "text\/plain":[
       "[('fucking wild ass day', 0.006236421560264221),\n",
       " ('fucking dirty shit', 0.006132777875836812),\n",
       " ('fucking thing', 0.005888820115919572),\n",
       " ('fucking way', 0.005527081905379186),\n",
       " ('fucking story', 0.005505288457375724),\n",
       " ('win win situation', 0.005280444147864183),\n",
       " ('fucking national security', 0.005144660501200745),\n",
       " ('fucking buffalo wing', 0.00513889935422721),\n",
       " ('fucking wing nut', 0.005059169070998061),\n",
       " ('fucking politic', 0.00482692255360417)]"
      ]
     },
     "metadata":{
      
     },
     "output_type":"display_data"
    }
   ],
   "metadata":{
    "datalore":{
     "node_id":"7wc0c0h6KWf26ZxZ8XqHi0",
     "type":"CODE",
     "hide_input_from_viewers":false,
     "hide_output_from_viewers":false,
     "report_properties":{
      "rowId":"PBfaHDHn0znsQS3hxJc8lj",
      "relativeY":0
     }
    }
   }
  },
  {
   "cell_type":"code",
   "source":[
    "# Combining like key phrases to reduce redundancy and improve interpretability\n",
    "# Using textacy's function to aggregate term variants\n",
    "\n",
    "terms = set([term for term, weight in textacy.extract.keyterms.textrank(doc)])\n",
    "textacy.extract.utils.aggregate_term_variants(terms)"
   ],
   "execution_count":30,
   "outputs":[
    {
     "data":{
      "text\/plain":[
       "[{'fucking national security'},\n",
       " {'fucking wild ass day'},\n",
       " {'fucking buffalo wing'},\n",
       " {'fucking dirty shit'},\n",
       " {'win win situation'},\n",
       " {'fucking wing nut'},\n",
       " {'fucking politic'},\n",
       " {'fucking thing'},\n",
       " {'fucking story'},\n",
       " {'fucking way'}]"
      ]
     },
     "metadata":{
      
     },
     "output_type":"display_data"
    }
   ],
   "metadata":{
    "datalore":{
     "node_id":"9KEB1AsVerIuuccnfvlYFA",
     "type":"CODE",
     "hide_input_from_viewers":false,
     "hide_output_from_viewers":false,
     "report_properties":{
      "rowId":"ArHG7aLb2QXnmkeJ182cKP",
      "relativeY":0
     }
    }
   }
  },
  {
   "cell_type":"markdown",
   "source":[
    "The keyphrase analysis reveals a mix of strong language and colloquial expressions, including phrases like \"fucking national security\" and \"win-win situation.\" The presence of \"fucking politic\" suggests a focus on political matters. The diverse topics covered, from national security to everyday situations, indicate a varied content. Overall, the analysis highlights an expressive tone with references to both formal and informal subjects."
   ],
   "attachments":{
    
   },
   "metadata":{
    "datalore":{
     "node_id":"nR9whgCwwXOBWOGysFpeO5",
     "type":"MD",
     "hide_input_from_viewers":false,
     "hide_output_from_viewers":false,
     "report_properties":{
      "rowId":"ncaFj6jY17mpPhFRrrcwZG",
      "relativeY":0
     }
    }
   }
  },
  {
   "cell_type":"markdown",
   "source":[
    "##### NER (Named Entity Recognition)\n",
    "\n",
    "In this part of the analysis, I'll be\n",
    " - Using spacy to extract named entities.\n",
    " - Creating a summary of your named entities.\n",
    " - Applying Snorkel to your data to show any relationship between names.\n",
    " - Finding and exploring relationships, if there are any between entities. "
   ],
   "attachments":{
    
   },
   "metadata":{
    "datalore":{
     "node_id":"LGVgWTqckDiw7Yk8mIKT00",
     "type":"MD",
     "hide_input_from_viewers":false,
     "hide_output_from_viewers":false,
     "report_properties":{
      "rowId":"YTYJI4WtJbm30ZdkV4ILrG",
      "relativeY":0
     }
    }
   }
  },
  {
   "cell_type":"code",
   "source":[
    "# Extracting named entities and their types using spaCy\n",
    "spacy_ner_tagged = [(ent, ent.label_) for ent in nlp(combined_doc).ents]\n",
    "\n",
    "# Creating a DataFrame DF_tags with named entities and their types\n",
    "DF_tags = pd.DataFrame(spacy_ner_tagged, columns=['word', 'entity'])\n",
    "DF_tags.head(5)"
   ],
   "execution_count":31,
   "outputs":[
    {
     "data":{
      "text\/html":[
       "<div>\n",
       "<style scoped>\n",
       "    .dataframe tbody tr th:only-of-type {\n",
       "        vertical-align: middle;\n",
       "    }\n",
       "\n",
       "    .dataframe tbody tr th {\n",
       "        vertical-align: top;\n",
       "    }\n",
       "\n",
       "    .dataframe thead th {\n",
       "        text-align: right;\n",
       "    }\n",
       "<\/style>\n",
       "<table border=\"1\" class=\"dataframe\">\n",
       "  <thead>\n",
       "    <tr style=\"text-align: right;\">\n",
       "      <th><\/th>\n",
       "      <th>word<\/th>\n",
       "      <th>entity<\/th>\n",
       "    <\/tr>\n",
       "  <\/thead>\n",
       "  <tbody>\n",
       "    <tr>\n",
       "      <th>0<\/th>\n",
       "      <td>(Christian)<\/td>\n",
       "      <td>NORP<\/td>\n",
       "    <\/tr>\n",
       "    <tr>\n",
       "      <th>1<\/th>\n",
       "      <td>(Jewish)<\/td>\n",
       "      <td>NORP<\/td>\n",
       "    <\/tr>\n",
       "    <tr>\n",
       "      <th>2<\/th>\n",
       "      <td>(Muslim)<\/td>\n",
       "      <td>NORP<\/td>\n",
       "    <\/tr>\n",
       "    <tr>\n",
       "      <th>3<\/th>\n",
       "      <td>(the, Constitution)<\/td>\n",
       "      <td>LAW<\/td>\n",
       "    <\/tr>\n",
       "    <tr>\n",
       "      <th>4<\/th>\n",
       "      <td>(the, United, States, of, America)<\/td>\n",
       "      <td>GPE<\/td>\n",
       "    <\/tr>\n",
       "  <\/tbody>\n",
       "<\/table>\n",
       "<\/div>"
      ]
     },
     "metadata":{
      
     },
     "output_type":"display_data"
    }
   ],
   "metadata":{
    "datalore":{
     "node_id":"Hg5oPo8qZp9swCL4KpGQpR",
     "type":"CODE",
     "hide_input_from_viewers":false,
     "hide_output_from_viewers":false,
     "report_properties":{
      "rowId":"UYD1xF6ZRDEWTfZtFXettR",
      "relativeY":0
     }
    }
   }
  },
  {
   "cell_type":"code",
   "source":[
    "# Summarizing named entity types and their counts in the DataFrame DF_tags\n",
    "DF_tags['entity'].value_counts()"
   ],
   "execution_count":32,
   "outputs":[
    {
     "data":{
      "text\/html":[
       "<pre>PERSON         228\n",
       "GPE            101\n",
       "ORG             68\n",
       "DATE            65\n",
       "CARDINAL        55\n",
       "NORP            39\n",
       "TIME            32\n",
       "ORDINAL         11\n",
       "FAC              8\n",
       "PERCENT          4\n",
       "LAW              2\n",
       "QUANTITY         2\n",
       "WORK_OF_ART      2\n",
       "EVENT            2\n",
       "LOC              2\n",
       "MONEY            2\n",
       "Name: entity, dtype: int64<\/pre>"
      ]
     },
     "metadata":{
      
     },
     "output_type":"display_data"
    }
   ],
   "metadata":{
    "datalore":{
     "node_id":"Z7qcNIucg0JFCt7BMT7khI",
     "type":"CODE",
     "hide_input_from_viewers":false,
     "hide_output_from_viewers":false,
     "report_properties":{
      "rowId":"r8OWCYlrSDc51qe7WZaDLZ",
      "relativeY":0
     }
    }
   }
  },
  {
   "cell_type":"markdown",
   "source":[
    "The most prevalent entities are individuals (PERSON) with 228 occurrences, followed by geopolitical entities (GPE) at 101, and organizations (ORG) at 68. Other identified entities include dates (DATE), cardinal numbers (CARDINAL), nationalities or religious or political groups (NORP), and time expressions (TIME). The list also includes ordinal numbers (ORDINAL), facilities (FAC), percentages (PERCENT), laws (LAW), quantities (QUANTITY), works of art (WORK_OF_ART), events (EVENT), locations (LOC), and monetary expressions (MONEY), each with varying frequencies.\n",
    "\n",
    "Considering the movie's focus on a political campaign, it is logical that the entities identified by SpaCy's Named Entity Recognition include individuals (PERSON), geopolitical entities (GPE), organizations (ORG), nationalities or religious or political groups (NORP), laws (LAW), events (EVENT), and locations (LOC). These entity types align with the expected elements in a narrative centered around political activities."
   ],
   "attachments":{
    
   },
   "metadata":{
    "datalore":{
     "node_id":"0xOC4lKc81zl3IZEYgWbv4",
     "type":"MD",
     "hide_input_from_viewers":false,
     "hide_output_from_viewers":false,
     "report_properties":{
      "rowId":"XSC5F1kPPaCWC6NFrHPeCe",
      "relativeY":0
     }
    }
   }
  },
  {
   "cell_type":"code",
   "source":[
    
   ],
   "execution_count":null,
   "outputs":[
    
   ],
   "metadata":{
    "datalore":{
     "node_id":"N09I4Mr85FoIEYxhQgC0wf",
     "type":"CODE",
     "hide_input_from_viewers":true,
     "hide_output_from_viewers":true
    }
   }
  },
  {
   "cell_type":"code",
   "source":[
    "# Identifying relationships between names (Persons) using Snorkel\n",
    "from snorkel.preprocess import preprocessor\n",
    "from snorkel.types import DataPoint\n",
    "from snorkel.labeling import labeling_function\n",
    "from snorkel.labeling import PandasLFApplier\n",
    "from itertools import combinations"
   ],
   "execution_count":34,
   "outputs":[
    
   ],
   "metadata":{
    "datalore":{
     "node_id":"CrGLNobuw6PbVcd2GGjbdV",
     "type":"CODE",
     "hide_input_from_viewers":false,
     "hide_output_from_viewers":false,
     "report_properties":{
      "rowId":"Vk1Im7Ceg9CbQ7IkLrfZ25",
      "relativeY":0
     }
    }
   }
  },
  {
   "cell_type":"code",
   "source":[
    "# Processing DataFrame to find every pairwise combination of entities of interest using spaCy\n",
    "# Define the entity types of interest (e.g., \"PERSON\")\n",
    "ent_types = [\"PERSON\"]\n",
    "\n",
    "# Empty list to store pairwise combinations\n",
    "stored_entities = []\n",
    "\n",
    "# Function to extract entities and their pairwise combinations\n",
    "def get_entities(x):\n",
    "    \"\"\"\n",
    "    Grabs the names using spaCy's entity labeler\n",
    "    \"\"\"\n",
    "    # Get all the entities in this row\n",
    "    processed = nlp(x)\n",
    "    # Get the tokens for each sentence\n",
    "    tokens = [word.text for word in processed]\n",
    "    # Get all the entities for the specified types\n",
    "    temp = [(ent.text, ent.label_) for ent in processed.ents if ent.label_ in ent_types]\n",
    "    # Proceed only if this row has at least two entities\n",
    "    if len(temp) > 1:\n",
    "        # Find all the combinations of pairs\n",
    "        temp2 = list(combinations(temp, 2))\n",
    "        # For each pair combination\n",
    "        for (person1, person2) in temp2:\n",
    "            # Find the names in person 1\n",
    "            person1_words = [word.text for word in nlp(person1[0])]\n",
    "            # Find the token numbers for person 1\n",
    "            person1_ids = [i for i, val in enumerate(tokens) if val in person1_words]\n",
    "            # Output in (start, stop) token tuple format\n",
    "            if len(person1_words) > 1:\n",
    "                person1_ids2 = tuple(idx for idx in person1_ids)\n",
    "            else:\n",
    "                id_1 = [idx for idx in person1_ids]\n",
    "                person1_ids2 = (id_1[0], id_1[0])\n",
    "\n",
    "            # Do the same thing with person 2\n",
    "            person2_words = [word.text for word in nlp(person2[0])]\n",
    "            person2_ids = [i for i, val in enumerate(tokens) if val in person2_words]\n",
    "            if len(person2_words) > 1:\n",
    "                person2_ids2 = tuple(idx for idx in person2_ids)\n",
    "            else:\n",
    "                id_2 = [idx for idx in person2_ids]\n",
    "                person2_ids2 = (id_2[0], id_2[0])\n",
    "\n",
    "            # Store all this in a list\n",
    "            stored_entities.append(\n",
    "                [x,  # Original text\n",
    "                 tokens,  # Tokens\n",
    "                 person1[0],  # Person 1 name\n",
    "                 person2[0],  # Person 2 name\n",
    "                 person1_ids2,  # Person 1 id token tuple\n",
    "                 person2_ids2  # Person 2 id token tuple\n",
    "                 ])\n",
    "\n",
    "# Apply the get_entities function to the 'clean_text' column\n",
    "DF['clean_text'].apply(get_entities)\n",
    "\n",
    "# Create a DataFrame in Snorkel's structure\n",
    "DF_dev = pd.DataFrame(stored_entities, columns=[\"sentence\", \"tokens\", \"person1\", \"person2\", \"person1_word_idx\", \"person2_word_idx\"])\n",
    "DF_dev[[\"sentence\", \"person1\", \"person2\", \"tokens\"]].head(10)"
   ],
   "execution_count":35,
   "outputs":[
    {
     "data":{
      "text\/html":[
       "<div>\n",
       "<style scoped>\n",
       "    .dataframe tbody tr th:only-of-type {\n",
       "        vertical-align: middle;\n",
       "    }\n",
       "\n",
       "    .dataframe tbody tr th {\n",
       "        vertical-align: top;\n",
       "    }\n",
       "\n",
       "    .dataframe thead th {\n",
       "        text-align: right;\n",
       "    }\n",
       "<\/style>\n",
       "<table border=\"1\" class=\"dataframe\">\n",
       "  <thead>\n",
       "    <tr style=\"text-align: right;\">\n",
       "      <th><\/th>\n",
       "      <th>sentence<\/th>\n",
       "      <th>person1<\/th>\n",
       "      <th>person2<\/th>\n",
       "      <th>tokens<\/th>\n",
       "    <\/tr>\n",
       "  <\/thead>\n",
       "  <tbody>\n",
       "    <tr>\n",
       "      <th>0<\/th>\n",
       "      <td>I like Mike! I like Mike!<\/td>\n",
       "      <td>Mike<\/td>\n",
       "      <td>Mike<\/td>\n",
       "      <td>[I, like, Mike, !, I, like, Mike, !]<\/td>\n",
       "    <\/tr>\n",
       "    <tr>\n",
       "      <th>1<\/th>\n",
       "      <td>Shelly's pre programmed\\nyour numbers. Thank y...<\/td>\n",
       "      <td>Shelly<\/td>\n",
       "      <td>Shelly<\/td>\n",
       "      <td>[Shelly, 's, pre, programmed, \\n, your, number...<\/td>\n",
       "    <\/tr>\n",
       "    <tr>\n",
       "      <th>2<\/th>\n",
       "      <td>Under \"Mary.\"\\n  I know your name's Mary.<\/td>\n",
       "      <td>Mary<\/td>\n",
       "      <td>Mary<\/td>\n",
       "      <td>[  , Under, \", Mary, ., \", \\n  , I, know, your...<\/td>\n",
       "    <\/tr>\n",
       "    <tr>\n",
       "      <th>3<\/th>\n",
       "      <td>Is this Paul, or is this you?\\n  Paul knows ...<\/td>\n",
       "      <td>Paul<\/td>\n",
       "      <td>Paul<\/td>\n",
       "      <td>[  , Is, this, Paul, ,, or, is, this, you, ?, ...<\/td>\n",
       "    <\/tr>\n",
       "    <tr>\n",
       "      <th>4<\/th>\n",
       "      <td>Is this Paul, or is this you?\\n  Paul knows ...<\/td>\n",
       "      <td>Paul<\/td>\n",
       "      <td>Paul<\/td>\n",
       "      <td>[  , Is, this, Paul, ,, or, is, this, you, ?, ...<\/td>\n",
       "    <\/tr>\n",
       "    <tr>\n",
       "      <th>5<\/th>\n",
       "      <td>Is this Paul, or is this you?\\n  Paul knows ...<\/td>\n",
       "      <td>Paul<\/td>\n",
       "      <td>Paul<\/td>\n",
       "      <td>[  , Is, this, Paul, ,, or, is, this, you, ?, ...<\/td>\n",
       "    <\/tr>\n",
       "    <tr>\n",
       "      <th>6<\/th>\n",
       "      <td>Paul likes this?\\n  Mm hm.<\/td>\n",
       "      <td>Paul<\/td>\n",
       "      <td>Mm<\/td>\n",
       "      <td>[  , Paul, likes, this, ?, \\n  , Mm, hm, .]<\/td>\n",
       "    <\/tr>\n",
       "    <tr>\n",
       "      <th>7<\/th>\n",
       "      <td>Uh, Stephen?\\n  Mm?<\/td>\n",
       "      <td>Stephen<\/td>\n",
       "      <td>Mm<\/td>\n",
       "      <td>[  , Uh, ,, Stephen, ?, \\n  , Mm, ?]<\/td>\n",
       "    <\/tr>\n",
       "    <tr>\n",
       "      <th>8<\/th>\n",
       "      <td>Paul won't be in,\\nbut Ben and I will take you.<\/td>\n",
       "      <td>Paul<\/td>\n",
       "      <td>Ben<\/td>\n",
       "      <td>[Paul, wo, n't, be, in, ,, \\n, but, Ben, and, ...<\/td>\n",
       "    <\/tr>\n",
       "    <tr>\n",
       "      <th>9<\/th>\n",
       "      <td>I work for Paul. Paul works for Morris.<\/td>\n",
       "      <td>Paul<\/td>\n",
       "      <td>Paul<\/td>\n",
       "      <td>[I, work, for, Paul, ., Paul, works, for, Morr...<\/td>\n",
       "    <\/tr>\n",
       "  <\/tbody>\n",
       "<\/table>\n",
       "<\/div>"
      ]
     },
     "metadata":{
      
     },
     "output_type":"display_data"
    }
   ],
   "metadata":{
    "datalore":{
     "node_id":"OoPKnrddKtpP58CKGiyIcN",
     "type":"CODE",
     "hide_input_from_viewers":false,
     "hide_output_from_viewers":false,
     "report_properties":{
      "rowId":"Qrp0YIEANxFx4GFlyqB230",
      "relativeY":0
     }
    }
   }
  },
  {
   "cell_type":"markdown",
   "source":[
    "Based on the above dataframe, there are some relationships between entities (person) that can be seen. \n",
    "Various types of connections between named entities (persons) are present in the dataframe. \n",
    "Specific keywords indicative of relationships, such as \"likes,\" \"knows,\" \"agrees,\" \"said,\" \"told,\" \"leaked,\" \"endorsed,\" \"in,\" \"for,\" \"takes,\" \"work,\" \"off the record,\" \"swear to,\" \"vs.,\" \"send our condolences to,\" and \"this is.\" are present between the entities. \n",
    "\n",
    "I am going to use Instances of these keywords as indicators of relationships to establish connection between PERSONS and create a knowledge graph representing the relationships between these entities."
   ],
   "attachments":{
    
   },
   "metadata":{
    "datalore":{
     "node_id":"WoPNh58jAqLzhsYzWTqTJ4",
     "type":"MD",
     "hide_input_from_viewers":false,
     "hide_output_from_viewers":false,
     "report_properties":{
      "rowId":"4IEUb2u1XIzfgtmStjBzE9",
      "relativeY":0
     }
    }
   }
  },
  {
   "cell_type":"markdown",
   "source":[
    "#### Knowledge Graph of entities linked together in the text. "
   ],
   "attachments":{
    
   },
   "metadata":{
    "datalore":{
     "node_id":"XO92d9HQ3cjAT5boOWpb7q",
     "type":"MD",
     "hide_input_from_viewers":false,
     "hide_output_from_viewers":false,
     "report_properties":{
      "rowId":"ciTrgRcD31um1pREWM0mWJ",
      "relativeY":0
     }
    }
   }
  },
  {
   "cell_type":"code",
   "source":[
    "# Figure out what the tokens are between the two objects using Snorkel's preprocessor\n",
    "\n",
    "@preprocessor()\n",
    "def get_text_between(cand: DataPoint) -> DataPoint:\n",
    "    \"\"\"\n",
    "    Returns the text between the two person mentions in the sentence\n",
    "    \"\"\"\n",
    "    start = cand.person1_word_idx[1] + 1\n",
    "    end = cand.person2_word_idx[0]\n",
    "    cand.between_tokens = \" \".join(cand.tokens[start:end])\n",
    "    return cand"
   ],
   "execution_count":36,
   "outputs":[
    
   ],
   "metadata":{
    "datalore":{
     "node_id":"rEAjBh5D3nmfqdp04HDe8p",
     "type":"CODE",
     "hide_input_from_viewers":false,
     "hide_output_from_viewers":false,
     "report_properties":{
      "rowId":"J7FfZnicbk5Jypbsf7xNSu",
      "relativeY":0
     }
    }
   }
  },
  {
   "cell_type":"markdown",
   "source":[
    
   ],
   "attachments":{
    
   },
   "metadata":{
    "datalore":{
     "node_id":"FQ9CEPIun6uXn0hzt7L9Fy",
     "type":"MD",
     "hide_input_from_viewers":false,
     "hide_output_from_viewers":false,
     "report_properties":{
      "rowId":"VlITbtfga9MX6hWYzkMedb",
      "relativeY":0
     }
    }
   }
  },
  {
   "cell_type":"code",
   "source":[
    "# Figure out words to the left of each entity using Snorkel's preprocessor\n",
    "@preprocessor()\n",
    "def get_left_tokens(cand: DataPoint) -> DataPoint:\n",
    "    \"\"\"\n",
    "    Returns tokens in the length 3 window to the left of the person mentions\n",
    "    \"\"\"\n",
    "    # TODO: need to pass window as input params\n",
    "    window = 3\n",
    "\n",
    "    end_person1 = cand.person1_word_idx[0]\n",
    "    cand.person1_left_tokens = cand.tokens[0:end_person1][-1 - window : -1]\n",
    "\n",
    "    end_person2 = cand.person2_word_idx[0]\n",
    "    cand.person2_left_tokens = cand.tokens[0:end_person2][-1 - window : -1]\n",
    "    return cand"
   ],
   "execution_count":37,
   "outputs":[
    
   ],
   "metadata":{
    "datalore":{
     "node_id":"EoDHSOCoQZE8Po16LpBRW4",
     "type":"CODE",
     "hide_input_from_viewers":false,
     "hide_output_from_viewers":false,
     "report_properties":{
      "rowId":"JitzPB3eeWiMs61VHiq6bB",
      "relativeY":0
     }
    }
   }
  },
  {
   "cell_type":"code",
   "source":[
    "# Get the DataFrame into the right format to use these functions\n",
    "# Check the between words for our objects\n",
    "\n",
    "# Define sets of characters, locations, and places\n",
    "characters = {\n",
    "    \"likes\",\n",
    "    \"loves\",\n",
    "    \"knows\",\n",
    "    \"agrees\",\n",
    "    \"said\",\n",
    "    \"told\",\n",
    "    \"leaked\",\n",
    "    \"condolences to\",\n",
    "    \"endorsed\",\n",
    "    \"in\",\n",
    "    \"for\",\n",
    "    \"takes\",\n",
    "    \"work\",\n",
    "    \"works.\"\n",
    "    \"off the record\",\n",
    "    \"swear to\",\n",
    "    \"vs.\",\n",
    "    \"send our condolences to\",\n",
    "    \"this is\",\n",
    "    \"get him to\",\n",
    "    \"run a\",\n",
    "}\n",
    "\n",
    "locations = {\",\"}\n",
    "places = {\",\"}\n",
    "\n",
    "# Define labels for relations\n",
    "pos_character = 1\n",
    "neg_location = -1\n",
    "no_relation = 0\n",
    "\n",
    "# Labeling functions\n",
    "@labeling_function(resources=dict(characters=characters), pre=[get_text_between])\n",
    "def between_characters(x, characters):\n",
    "    # Assign positive character relation label if characters are found in between tokens\n",
    "    return pos_character if len(characters.intersection(set(x.between_tokens.lower()))) > 0 else no_relation\n",
    "\n",
    "@labeling_function(resources=dict(places=places), pre=[get_text_between])\n",
    "def between_places(x, places):\n",
    "    # Assign negative location relation label if places are found in between tokens\n",
    "    return neg_location if len(places.intersection(set(x.between_tokens.lower()))) > 0 else no_relation\n",
    "\n",
    "@labeling_function(resources=dict(characters=characters), pre=[get_left_tokens])\n",
    "def left_characters(x, characters):\n",
    "    # Assign positive character relation label if characters are found to the left of entities\n",
    "    if len(set(characters).intersection(set(x.person1_left_tokens))) > 0:\n",
    "        return pos_character\n",
    "    elif len(set(characters).intersection(set(x.person2_left_tokens))) > 0:\n",
    "        return pos_character\n",
    "    else:\n",
    "        return no_relation\n",
    "\n",
    "@labeling_function(resources=dict(places=places), pre=[get_left_tokens])\n",
    "def left_places(x, places):\n",
    "    # Assign negative location relation label if places are found to the left of entities\n",
    "    if len(set(places).intersection(set(x.person1_left_tokens))) > 0:\n",
    "        return neg_location\n",
    "    elif len(set(places).intersection(set(x.person2_left_tokens))) > 0:\n",
    "        return neg_location\n",
    "    else:\n",
    "        return no_relation"
   ],
   "execution_count":38,
   "outputs":[
    
   ],
   "metadata":{
    "datalore":{
     "node_id":"FpYUm3NKpMLmGhlUDuSETa",
     "type":"CODE",
     "hide_input_from_viewers":false,
     "hide_output_from_viewers":false,
     "report_properties":{
      "rowId":"ntrWeSm6P4Yeh8kaPkRRkL",
      "relativeY":0
     }
    }
   }
  },
  {
   "cell_type":"code",
   "source":[
    "# List all your labeling functions\n",
    "lfs = [\n",
    "    between_characters,\n",
    "    between_places,\n",
    "    left_characters,\n",
    "    left_places\n",
    "]\n",
    "\n",
    "# Create the apply pipeline\n",
    "applier = PandasLFApplier(lfs)\n",
    "\n",
    "# Actually apply the labeling functions\n",
    "L_dev = applier.apply(DF_dev)\n",
    "\n",
    "# Create a DataFrame with labels\n",
    "L_dev = pd.DataFrame(L_dev, columns=[\"char1\", \"place1\", \"char2\", \"place2\"])\n",
    "\n",
    "# Concatenate the original DataFrame and the labeled DataFrame\n",
    "DF_combo = pd.concat([DF_dev, L_dev], axis=1)\n",
    "\n",
    "# Combine character and place information for easier analysis\n",
    "DF_combo['character'] = DF_combo['char1'] + DF_combo['char2']\n",
    "DF_combo['place'] = DF_combo['place1'] + DF_combo['place2']\n",
    "\n",
    "# Display the combined DataFrame\n",
    "DF_combo.head(10)"
   ],
   "execution_count":39,
   "outputs":[
    {
     "name":"stderr",
     "text":[
      "\r  0%|          | 0\/40 [00:00<?, ?it\/s]\r100%|██████████| 40\/40 [00:00<00:00, 488.51it\/s]\n"
     ],
     "output_type":"stream"
    },
    {
     "data":{
      "text\/html":[
       "<div>\n",
       "<style scoped>\n",
       "    .dataframe tbody tr th:only-of-type {\n",
       "        vertical-align: middle;\n",
       "    }\n",
       "\n",
       "    .dataframe tbody tr th {\n",
       "        vertical-align: top;\n",
       "    }\n",
       "\n",
       "    .dataframe thead th {\n",
       "        text-align: right;\n",
       "    }\n",
       "<\/style>\n",
       "<table border=\"1\" class=\"dataframe\">\n",
       "  <thead>\n",
       "    <tr style=\"text-align: right;\">\n",
       "      <th><\/th>\n",
       "      <th>sentence<\/th>\n",
       "      <th>tokens<\/th>\n",
       "      <th>person1<\/th>\n",
       "      <th>person2<\/th>\n",
       "      <th>person1_word_idx<\/th>\n",
       "      <th>person2_word_idx<\/th>\n",
       "      <th>char1<\/th>\n",
       "      <th>place1<\/th>\n",
       "      <th>char2<\/th>\n",
       "      <th>place2<\/th>\n",
       "      <th>character<\/th>\n",
       "      <th>place<\/th>\n",
       "    <\/tr>\n",
       "  <\/thead>\n",
       "  <tbody>\n",
       "    <tr>\n",
       "      <th>0<\/th>\n",
       "      <td>I like Mike! I like Mike!<\/td>\n",
       "      <td>[I, like, Mike, !, I, like, Mike, !]<\/td>\n",
       "      <td>Mike<\/td>\n",
       "      <td>Mike<\/td>\n",
       "      <td>(2, 2)<\/td>\n",
       "      <td>(2, 2)<\/td>\n",
       "      <td>0<\/td>\n",
       "      <td>0<\/td>\n",
       "      <td>0<\/td>\n",
       "      <td>0<\/td>\n",
       "      <td>0<\/td>\n",
       "      <td>0<\/td>\n",
       "    <\/tr>\n",
       "    <tr>\n",
       "      <th>1<\/th>\n",
       "      <td>Shelly's pre programmed\\nyour numbers. Thank y...<\/td>\n",
       "      <td>[Shelly, 's, pre, programmed, \\n, your, number...<\/td>\n",
       "      <td>Shelly<\/td>\n",
       "      <td>Shelly<\/td>\n",
       "      <td>(0, 0)<\/td>\n",
       "      <td>(0, 0)<\/td>\n",
       "      <td>0<\/td>\n",
       "      <td>0<\/td>\n",
       "      <td>0<\/td>\n",
       "      <td>0<\/td>\n",
       "      <td>0<\/td>\n",
       "      <td>0<\/td>\n",
       "    <\/tr>\n",
       "    <tr>\n",
       "      <th>2<\/th>\n",
       "      <td>Under \"Mary.\"\\n  I know your name's Mary.<\/td>\n",
       "      <td>[  , Under, \", Mary, ., \", \\n  , I, know, your...<\/td>\n",
       "      <td>Mary<\/td>\n",
       "      <td>Mary<\/td>\n",
       "      <td>(3, 3)<\/td>\n",
       "      <td>(3, 3)<\/td>\n",
       "      <td>0<\/td>\n",
       "      <td>0<\/td>\n",
       "      <td>0<\/td>\n",
       "      <td>0<\/td>\n",
       "      <td>0<\/td>\n",
       "      <td>0<\/td>\n",
       "    <\/tr>\n",
       "    <tr>\n",
       "      <th>3<\/th>\n",
       "      <td>Is this Paul, or is this you?\\n  Paul knows ...<\/td>\n",
       "      <td>[  , Is, this, Paul, ,, or, is, this, you, ?, ...<\/td>\n",
       "      <td>Paul<\/td>\n",
       "      <td>Paul<\/td>\n",
       "      <td>(3, 3)<\/td>\n",
       "      <td>(3, 3)<\/td>\n",
       "      <td>0<\/td>\n",
       "      <td>0<\/td>\n",
       "      <td>0<\/td>\n",
       "      <td>0<\/td>\n",
       "      <td>0<\/td>\n",
       "      <td>0<\/td>\n",
       "    <\/tr>\n",
       "    <tr>\n",
       "      <th>4<\/th>\n",
       "      <td>Is this Paul, or is this you?\\n  Paul knows ...<\/td>\n",
       "      <td>[  , Is, this, Paul, ,, or, is, this, you, ?, ...<\/td>\n",
       "      <td>Paul<\/td>\n",
       "      <td>Paul<\/td>\n",
       "      <td>(3, 3)<\/td>\n",
       "      <td>(3, 3)<\/td>\n",
       "      <td>0<\/td>\n",
       "      <td>0<\/td>\n",
       "      <td>0<\/td>\n",
       "      <td>0<\/td>\n",
       "      <td>0<\/td>\n",
       "      <td>0<\/td>\n",
       "    <\/tr>\n",
       "    <tr>\n",
       "      <th>5<\/th>\n",
       "      <td>Is this Paul, or is this you?\\n  Paul knows ...<\/td>\n",
       "      <td>[  , Is, this, Paul, ,, or, is, this, you, ?, ...<\/td>\n",
       "      <td>Paul<\/td>\n",
       "      <td>Paul<\/td>\n",
       "      <td>(3, 3)<\/td>\n",
       "      <td>(3, 3)<\/td>\n",
       "      <td>0<\/td>\n",
       "      <td>0<\/td>\n",
       "      <td>0<\/td>\n",
       "      <td>0<\/td>\n",
       "      <td>0<\/td>\n",
       "      <td>0<\/td>\n",
       "    <\/tr>\n",
       "    <tr>\n",
       "      <th>6<\/th>\n",
       "      <td>Paul likes this?\\n  Mm hm.<\/td>\n",
       "      <td>[  , Paul, likes, this, ?, \\n  , Mm, hm, .]<\/td>\n",
       "      <td>Paul<\/td>\n",
       "      <td>Mm<\/td>\n",
       "      <td>(1, 1)<\/td>\n",
       "      <td>(6, 6)<\/td>\n",
       "      <td>0<\/td>\n",
       "      <td>0<\/td>\n",
       "      <td>1<\/td>\n",
       "      <td>0<\/td>\n",
       "      <td>1<\/td>\n",
       "      <td>0<\/td>\n",
       "    <\/tr>\n",
       "    <tr>\n",
       "      <th>7<\/th>\n",
       "      <td>Uh, Stephen?\\n  Mm?<\/td>\n",
       "      <td>[  , Uh, ,, Stephen, ?, \\n  , Mm, ?]<\/td>\n",
       "      <td>Stephen<\/td>\n",
       "      <td>Mm<\/td>\n",
       "      <td>(3, 3)<\/td>\n",
       "      <td>(6, 6)<\/td>\n",
       "      <td>0<\/td>\n",
       "      <td>0<\/td>\n",
       "      <td>0<\/td>\n",
       "      <td>-1<\/td>\n",
       "      <td>0<\/td>\n",
       "      <td>-1<\/td>\n",
       "    <\/tr>\n",
       "    <tr>\n",
       "      <th>8<\/th>\n",
       "      <td>Paul won't be in,\\nbut Ben and I will take you.<\/td>\n",
       "      <td>[Paul, wo, n't, be, in, ,, \\n, but, Ben, and, ...<\/td>\n",
       "      <td>Paul<\/td>\n",
       "      <td>Ben<\/td>\n",
       "      <td>(0, 0)<\/td>\n",
       "      <td>(8, 8)<\/td>\n",
       "      <td>0<\/td>\n",
       "      <td>-1<\/td>\n",
       "      <td>1<\/td>\n",
       "      <td>-1<\/td>\n",
       "      <td>1<\/td>\n",
       "      <td>-2<\/td>\n",
       "    <\/tr>\n",
       "    <tr>\n",
       "      <th>9<\/th>\n",
       "      <td>I work for Paul. Paul works for Morris.<\/td>\n",
       "      <td>[I, work, for, Paul, ., Paul, works, for, Morr...<\/td>\n",
       "      <td>Paul<\/td>\n",
       "      <td>Paul<\/td>\n",
       "      <td>(3, 3)<\/td>\n",
       "      <td>(3, 3)<\/td>\n",
       "      <td>0<\/td>\n",
       "      <td>0<\/td>\n",
       "      <td>1<\/td>\n",
       "      <td>0<\/td>\n",
       "      <td>1<\/td>\n",
       "      <td>0<\/td>\n",
       "    <\/tr>\n",
       "  <\/tbody>\n",
       "<\/table>\n",
       "<\/div>"
      ]
     },
     "metadata":{
      
     },
     "output_type":"display_data"
    }
   ],
   "metadata":{
    "datalore":{
     "node_id":"ApfrK27Tm93XzXK6R9FXw9",
     "type":"CODE",
     "hide_input_from_viewers":false,
     "hide_output_from_viewers":false,
     "report_properties":{
      "rowId":"9cLb5MVUpOwLPblDqhUs1r",
      "relativeY":0
     }
    }
   }
  },
  {
   "cell_type":"code",
   "source":[
    "# Filter DataFrame for character relations and count co-occurrences\n",
    "DF_characters = DF_combo[DF_combo['character'] > 0]\n",
    "DF_characters = DF_characters[[\"person1\", \"person2\", \"character\"]]\n",
    "co_character = DF_characters.groupby(['person1', 'person2']).agg('count').reset_index().rename(columns={\"character\": \"weight\"})\n",
    "co_character.head(10)"
   ],
   "execution_count":40,
   "outputs":[
    {
     "data":{
      "text\/html":[
       "<div>\n",
       "<style scoped>\n",
       "    .dataframe tbody tr th:only-of-type {\n",
       "        vertical-align: middle;\n",
       "    }\n",
       "\n",
       "    .dataframe tbody tr th {\n",
       "        vertical-align: top;\n",
       "    }\n",
       "\n",
       "    .dataframe thead th {\n",
       "        text-align: right;\n",
       "    }\n",
       "<\/style>\n",
       "<table border=\"1\" class=\"dataframe\">\n",
       "  <thead>\n",
       "    <tr style=\"text-align: right;\">\n",
       "      <th><\/th>\n",
       "      <th>person1<\/th>\n",
       "      <th>person2<\/th>\n",
       "      <th>weight<\/th>\n",
       "    <\/tr>\n",
       "  <\/thead>\n",
       "  <tbody>\n",
       "    <tr>\n",
       "      <th>0<\/th>\n",
       "      <td>Bush<\/td>\n",
       "      <td>Gore<\/td>\n",
       "      <td>1<\/td>\n",
       "    <\/tr>\n",
       "    <tr>\n",
       "      <th>1<\/th>\n",
       "      <td>Carter<\/td>\n",
       "      <td>Bush<\/td>\n",
       "      <td>1<\/td>\n",
       "    <\/tr>\n",
       "    <tr>\n",
       "      <th>2<\/th>\n",
       "      <td>Carter<\/td>\n",
       "      <td>Ford<\/td>\n",
       "      <td>1<\/td>\n",
       "    <\/tr>\n",
       "    <tr>\n",
       "      <th>3<\/th>\n",
       "      <td>Carter<\/td>\n",
       "      <td>Gore<\/td>\n",
       "      <td>1<\/td>\n",
       "    <\/tr>\n",
       "    <tr>\n",
       "      <th>4<\/th>\n",
       "      <td>Ford<\/td>\n",
       "      <td>Bush<\/td>\n",
       "      <td>1<\/td>\n",
       "    <\/tr>\n",
       "    <tr>\n",
       "      <th>5<\/th>\n",
       "      <td>JFK<\/td>\n",
       "      <td>Bush<\/td>\n",
       "      <td>1<\/td>\n",
       "    <\/tr>\n",
       "    <tr>\n",
       "      <th>6<\/th>\n",
       "      <td>JFK<\/td>\n",
       "      <td>Carter<\/td>\n",
       "      <td>1<\/td>\n",
       "    <\/tr>\n",
       "    <tr>\n",
       "      <th>7<\/th>\n",
       "      <td>Nixon<\/td>\n",
       "      <td>Bush<\/td>\n",
       "      <td>1<\/td>\n",
       "    <\/tr>\n",
       "    <tr>\n",
       "      <th>8<\/th>\n",
       "      <td>Nixon<\/td>\n",
       "      <td>Carter<\/td>\n",
       "      <td>1<\/td>\n",
       "    <\/tr>\n",
       "    <tr>\n",
       "      <th>9<\/th>\n",
       "      <td>Paul<\/td>\n",
       "      <td>Ben<\/td>\n",
       "      <td>1<\/td>\n",
       "    <\/tr>\n",
       "  <\/tbody>\n",
       "<\/table>\n",
       "<\/div>"
      ]
     },
     "metadata":{
      
     },
     "output_type":"display_data"
    }
   ],
   "metadata":{
    "datalore":{
     "node_id":"D9jx6VD8YoY8QH3QNkKyMQ",
     "type":"CODE",
     "hide_input_from_viewers":false,
     "hide_output_from_viewers":false,
     "report_properties":{
      "rowId":"8L0xT1yiKHG1NgF8aCJ6z4",
      "relativeY":0
     }
    }
   }
  },
  {
   "cell_type":"code",
   "source":[
    "# Print knowledge graph of the entities (persons) linked together in text\n",
    "graph = nx.from_pandas_edgelist(\n",
    "           co_character[['person1', 'person2', 'weight']],\n",
    "           source='person1', target='person2', edge_attr=True)\n",
    "\n",
    "pos = nx.kamada_kawai_layout(graph, weight='weight')\n",
    "\n",
    "_ = plt.figure(figsize=(10, 10))\n",
    "nx.draw(graph, pos, \n",
    "        node_size=1000, \n",
    "        node_color='skyblue',\n",
    "        alpha=0.8,\n",
    "        with_labels=True)\n",
    "plt.title('Graph Visualization', size=15)\n",
    "\n",
    "for (node1, node2, data) in graph.edges(data=True):\n",
    "    width = data['weight'] \n",
    "    _ = nx.draw_networkx_edges(graph, pos,\n",
    "                               edgelist=[(node1, node2)],\n",
    "                               width=width,\n",
    "                               edge_color='#505050',\n",
    "                               alpha=0.5)\n",
    "\n",
    "plt.show()\n",
    "plt.close()"
   ],
   "execution_count":41,
   "outputs":[
    {
     "data":{
      "image\/png":"[encoded data removed]"
     },
     "metadata":{
      "image\/png":{
       
      }
     },
     "output_type":"display_data"
    }
   ],
   "metadata":{
    "datalore":{
     "node_id":"2RgP53rwtk8XIAq8zReneO",
     "type":"CODE",
     "hide_input_from_viewers":false,
     "hide_output_from_viewers":false,
     "report_properties":{
      "rowId":"1JKcf2Tlyp31o2WRMVs0Jc",
      "relativeY":0
     }
    }
   }
  },
  {
   "cell_type":"markdown",
   "source":[
    "### Summary\n",
    "\n",
    "In the preceding section, the focus was on exploring relationships exclusively among persons (PERSON entities) in the provided subtitle data. Various types of relationships emerged, spanning from expressions of liking, such as \"I like Mike!,\" to formal endorsements like \"Senator Thompson has just endorsed Governor Morris,\" and discussions about work roles, as seen in \"I work for Paul. Paul works for Morris.\" This exploration shed light on the diverse ways individuals' relationships were articulated in the subtitle data. \n",
    "\n",
    "Moving forward, there is potential for deeper insights by extending the analysis to different categories of entities. For instance, examining relationships between persons and geopolitical entities (GPE) using phrases like \"Governor Morris of Arkansas,\" or exploring connections between nationality-related entities (NORP) and geopolitical entities could unveil additional layers of information. \n",
    "\n",
    "This project serves as an introductory exploration into the possibilities of NLP techniques for text analysis, with intentions to delve deeper into subsequent projects covering diverse NLP methodologies like text summarization, topic modeling, and text ranking."
   ],
   "attachments":{
    
   },
   "metadata":{
    "datalore":{
     "node_id":"HNrhwEHknTPncjKhrp0MWT",
     "type":"MD",
     "hide_input_from_viewers":false,
     "hide_output_from_viewers":false,
     "report_properties":{
      "rowId":"l7nsxoxO9D6KO85gRnZ5gZ",
      "relativeY":0
     }
    }
   }
  },
  {
   "cell_type":"code",
   "source":[
    
   ],
   "execution_count":null,
   "outputs":[
    
   ],
   "metadata":{
    "datalore":{
     "node_id":"xaIFrPVjjo8xevDaxBeqlO",
     "type":"CODE",
     "hide_input_from_viewers":true,
     "hide_output_from_viewers":true
    }
   }
  },
  {
   "cell_type":"code",
   "source":[
    
   ],
   "execution_count":null,
   "outputs":[
    
   ],
   "metadata":{
    "datalore":{
     "node_id":"0ROggqtnkQw5QJkK7kCnuy",
     "type":"CODE",
     "hide_input_from_viewers":true,
     "hide_output_from_viewers":true
    }
   }
  }
 ],
 "metadata":{
  "kernelspec":{
   "display_name":"Python",
   "language":"python",
   "name":"python"
  },
  "datalore":{
   "computation_mode":"JUPYTER",
   "package_manager":"pip",
   "base_environment":"minimal",
   "packages":[
    {
     "name":"pysrt",
     "source":"PIP"
    },
    {
     "name":"spacy",
     "source":"PIP"
    },
    {
     "name":"textacy",
     "version":"0.11.0",
     "source":"PIP"
    },
    {
     "name":"nltk",
     "source":"PIP"
    },
    {
     "name":"snorkel",
     "source":"PIP"
    },
    {
     "name":"networkx",
     "version":"2.8.8",
     "source":"PIP"
    }
   ],
   "report_row_ids":[
    "2gQble3kDiltF4JpjHTiT5",
    "raoGfOzl19l73GxThpr2zr",
    "MWSvcyaeJCqk1kDBXxRPsK",
    "nDoUQ83L29t1C4jN8U53cl",
    "KW5qzMAcXUNmeB2ztCIbOK",
    "qTx0461l1upIgBmouik4fb",
    "aaGtqc2rOmup5DzsNJJoaK",
    "dpvq49EL2e2KNiLQ2r4vt9",
    "i7ij9kvRo3OF4tP6AZGPLh",
    "lI5TFa4e02gXj6327OZxkU",
    "96MRtJ4VDoJclwY8e6bJd0",
    "bTH0KRf66J3Uvd28bYobUD",
    "wQdNwaKfyanTLK1bl9uJH3",
    "G3DD7pvB3sUzdarshSKcPH",
    "9ItRbct5C8a80W6v5elx12",
    "mNBkFpAdW5tb5jSGV2c5JT",
    "eyhK5PeWcHpa8nyDPAq8S2",
    "lUAi8CYq4i966fvOXbSRou",
    "9Lac2ruPDr85Z3ZhVOJfz2",
    "RklnDClBggA7jF6McC41JV",
    "PBfaHDHn0znsQS3hxJc8lj",
    "ArHG7aLb2QXnmkeJ182cKP",
    "ncaFj6jY17mpPhFRrrcwZG",
    "YTYJI4WtJbm30ZdkV4ILrG",
    "UYD1xF6ZRDEWTfZtFXettR",
    "r8OWCYlrSDc51qe7WZaDLZ",
    "XSC5F1kPPaCWC6NFrHPeCe",
    "Vk1Im7Ceg9CbQ7IkLrfZ25",
    "Qrp0YIEANxFx4GFlyqB230",
    "4IEUb2u1XIzfgtmStjBzE9",
    "ciTrgRcD31um1pREWM0mWJ",
    "J7FfZnicbk5Jypbsf7xNSu",
    "VlITbtfga9MX6hWYzkMedb",
    "JitzPB3eeWiMs61VHiq6bB",
    "ntrWeSm6P4Yeh8kaPkRRkL",
    "9cLb5MVUpOwLPblDqhUs1r",
    "8L0xT1yiKHG1NgF8aCJ6z4",
    "1JKcf2Tlyp31o2WRMVs0Jc",
    "l7nsxoxO9D6KO85gRnZ5gZ"
   ],
   "version":3
  }
 },
 "nbformat":4,
 "nbformat_minor":4
}